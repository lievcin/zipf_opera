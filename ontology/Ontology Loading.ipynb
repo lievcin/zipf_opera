{
 "cells": [
  {
   "cell_type": "code",
   "execution_count": 1,
   "metadata": {
    "scrolled": true
   },
   "outputs": [],
   "source": [
    "import rdflib\n",
    "g=rdflib.Graph()\n",
    "g.load('http://purl.org/ontology/mo/')"
   ]
  },
  {
   "cell_type": "code",
   "execution_count": 2,
   "metadata": {
    "scrolled": true
   },
   "outputs": [],
   "source": [
    "from rdflib import Graph, Literal, BNode, Namespace, RDF, URIRef\n",
    "from rdflib.namespace import DC, FOAF\n",
    "\n",
    "mo = Namespace('http://purl.org/ontology/mo/')\n",
    "\n",
    "g = rdflib.Graph()\n",
    "# result = g.parse(\"http://purl.org/ontology/mo/\")\n",
    "\n",
    "verdi = BNode()\n",
    "puccini = URIRef(\"https://www.wikidata.org/wiki/Q7311\")\n",
    "\n",
    "g.add( (puccini, RDF.type, mo.Composer) )\n",
    "g.add( (puccini, FOAF.age, Literal(99) ) )\n",
    "g.add( (puccini, FOAF.name, Literal('Giacomo Puccini') ) )\n",
    "\n",
    "g.add( (verdi, RDF.type, mo.Composer) )\n",
    "g.add( (verdi, FOAF.age, Literal(104) ) )\n",
    "g.add( (verdi, FOAF.name, Literal('Guiseppe Verdi') ) )\n",
    "\n",
    "s = g.serialize(format='nt')\n",
    "# s"
   ]
  },
  {
   "cell_type": "code",
   "execution_count": 3,
   "metadata": {},
   "outputs": [
    {
     "name": "stdout",
     "output_type": "stream",
     "text": [
      "Guiseppe Verdi 104\n",
      "Giacomo Puccini 99\n"
     ]
    }
   ],
   "source": [
    "q = \"\"\"\n",
    "    PREFIX mo: <http://purl.org/ontology/mo/>\n",
    "    PREFIX foaf: <http://xmlns.com/foaf/0.1/>\n",
    "\n",
    "    SELECT ?name ?age\n",
    "    WHERE {\n",
    "      ?composer a mo:Composer . \n",
    "      ?composer foaf:name ?name .\n",
    "      ?composer foaf:age ?age .\n",
    "    }\n",
    "    \"\"\"\n",
    "\n",
    "for composer,age in g.query(q):\n",
    "    print(composer,age)    "
   ]
  },
  {
   "cell_type": "code",
   "execution_count": null,
   "metadata": {},
   "outputs": [],
   "source": []
  },
  {
   "cell_type": "code",
   "execution_count": null,
   "metadata": {},
   "outputs": [],
   "source": []
  }
 ],
 "metadata": {
  "kernelspec": {
   "display_name": "Python 3",
   "language": "python",
   "name": "python3"
  },
  "language_info": {
   "codemirror_mode": {
    "name": "ipython",
    "version": 3
   },
   "file_extension": ".py",
   "mimetype": "text/x-python",
   "name": "python",
   "nbconvert_exporter": "python",
   "pygments_lexer": "ipython3",
   "version": "3.6.2"
  }
 },
 "nbformat": 4,
 "nbformat_minor": 2
}
