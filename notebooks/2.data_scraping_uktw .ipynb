{
 "cells": [
  {
   "cell_type": "code",
   "execution_count": 2,
   "metadata": {},
   "outputs": [],
   "source": [
    "from bs4 import BeautifulSoup\n",
    "import requests, csv, string, re\n",
    "from csv import writer\n",
    "\n",
    "abc = 'ABCDEFGHIJKLMNOPQRSTUVWXYZ'\n",
    "abc = list(abc)\n",
    "base_url = 'https://www.uktw.co.uk/archive/work/opera/'"
   ]
  },
  {
   "cell_type": "code",
   "execution_count": 3,
   "metadata": {},
   "outputs": [],
   "source": [
    "def get_info(listings):\n",
    "    rows = listings.find_all('tr')\n",
    "    venue, from_date, to_date, company, composer, when_dates, town = ('','','','','','','')\n",
    "    for row in rows:\n",
    "        if venue == '':\n",
    "            try:\n",
    "                venue = row.find(\"b\", string=\"Venue\").parent.parent.text.replace('Venue', '')\n",
    "            except:\n",
    "                None\n",
    "        if from_date == '':\n",
    "            try:\n",
    "                from_date = row.find(\"b\", string=\"From\").parent.parent.text.replace('From', '')\n",
    "            except:\n",
    "                None\n",
    "        if to_date == '':\n",
    "            try:\n",
    "                to_date = row.find(\"b\", string=\"To\").parent.parent.text.replace('To', '')\n",
    "            except:\n",
    "                None      \n",
    "        if company == '':\n",
    "            try:\n",
    "                company = row.find(\"b\", text=re.compile(\"Company(.*)\")).parent.parent.text.replace('Company', '').strip()\n",
    "            except:\n",
    "                None      \n",
    "            try:\n",
    "                company = row.find(\"b\", text=re.compile(\"Producer(.*)\")).parent.parent.text.replace('Producer', '').strip()\n",
    "            except:\n",
    "                None\n",
    "            try:\n",
    "                company = row.find(\"b\", text=re.compile(\"Presented by(.*)\")).parent.parent.text.replace('Presented by', '').strip()\n",
    "            except:\n",
    "                None                   \n",
    "        if composer == '':\n",
    "            try:\n",
    "                composer = row.find(\"b\", text=re.compile(\"Music(.*)\")).parent.parent.text.replace('Music', '').strip()                \n",
    "            except:\n",
    "                None  \n",
    "            try:\n",
    "                composer = row.find(\"b\", text=re.compile(\"Author(.*)\")).parent.parent.text.replace('Author', '').strip()                \n",
    "            except:\n",
    "                None       \n",
    "        if when_dates == '':\n",
    "            try:\n",
    "                when_dates = row.find(\"b\", text=re.compile(\"When(.*)\")).parent.parent.text.replace('When', '').strip()                \n",
    "            except:\n",
    "                None  \n",
    "        if town == '':\n",
    "            try:\n",
    "                town = row.find(\"b\", text=re.compile(\"Town(.*)\")).parent.parent.text.replace('Town', '').strip()                \n",
    "            except:\n",
    "                None                  \n",
    "    return venue, from_date, to_date, company, composer, when_dates, town\n",
    "\n",
    "def get_more_info(listings):\n",
    "    category = 'live'\n",
    "    details = listings.find('h2', text='Production details')\n",
    "    if details:\n",
    "        if len(details.parent.find_all(text = re.compile('Broadcast'))) > 0:\n",
    "            category = 'broadcast'\n",
    "    return category"
   ]
  },
  {
   "cell_type": "code",
   "execution_count": 4,
   "metadata": {
    "scrolled": true
   },
   "outputs": [
    {
     "name": "stdout",
     "output_type": "stream",
     "text": [
      "A\n",
      "B\n",
      "C\n",
      "D\n",
      "E\n",
      "F\n",
      "G\n",
      "H\n",
      "I\n",
      "J\n",
      "K\n",
      "L\n",
      "M\n",
      "N\n",
      "O\n",
      "P\n",
      "Q\n",
      "R\n",
      "S\n",
      "T\n",
      "U\n",
      "V\n",
      "W\n",
      "X\n",
      "Y\n",
      "Z\n"
     ]
    }
   ],
   "source": [
    "shows= []\n",
    "for l in abc:\n",
    "    print(l)\n",
    "    url = base_url + l\n",
    "    r  = requests.get(url)\n",
    "    soup = BeautifulSoup(r.text, \"html5lib\")\n",
    "    codes = soup.find_all('ul')[10].find_all('li')\n",
    "    for code in codes:        \n",
    "        opera_name = code.text.strip()\n",
    "        link = code.find('a').get('href')\n",
    "        r_show  = requests.get(link)\n",
    "        listings = BeautifulSoup(r_show.text, \"html5lib\")\n",
    "        for i in listings.find_all('i'):\n",
    "            if len(i.find_all('a')) > 0:\n",
    "                if i.find('a').get('href') != None:             \n",
    "                    show = []\n",
    "                    show.append(opera_name)\n",
    "                    show.append(i.find('a').get('href'))\n",
    "                    shows.append(show)"
   ]
  },
  {
   "cell_type": "code",
   "execution_count": 6,
   "metadata": {
    "scrolled": true
   },
   "outputs": [
    {
     "name": "stdout",
     "output_type": "stream",
     "text": [
      "0\n",
      "1000\n",
      "2000\n",
      "3000\n",
      "4000\n",
      "5000\n",
      "6000\n",
      "7000\n",
      "8000\n",
      "9000\n",
      "10000\n",
      "11000\n",
      "12000\n",
      "13000\n",
      "14000\n"
     ]
    }
   ],
   "source": [
    "listings = []\n",
    "\n",
    "for idx, show in enumerate(shows):\n",
    "    if idx%1000==0:\n",
    "        print(idx)\n",
    "        \n",
    "    if show[1] != '':\n",
    "        try:\n",
    "            r  = requests.get(show[1])\n",
    "            soup = BeautifulSoup(r.text, \"html5lib\")\n",
    "            work = show[0]\n",
    "            venue, from_date, to_date, company, composer, when_dates, town  = get_info(soup)\n",
    "            category = get_more_info(soup)\n",
    "            listing = []\n",
    "            listing.append(work)            \n",
    "            listing.append(venue)\n",
    "            listing.append(town)\n",
    "            listing.append(from_date)\n",
    "            listing.append(to_date)\n",
    "            listing.append(company)\n",
    "            listing.append(composer)        \n",
    "            listing.append(when_dates)         \n",
    "            listing.append(category)\n",
    "            listings.append(listing)\n",
    "        except:\n",
    "            None"
   ]
  },
  {
   "cell_type": "code",
   "execution_count": 10,
   "metadata": {},
   "outputs": [],
   "source": [
    "import pandas as pd\n",
    "headers = ['work', 'venue', 'town', 'from', 'to', 'company', 'composer', 'dates', 'category']\n",
    "df = pd.DataFrame(listings, columns=headers)\n",
    "df.to_csv('../data/raw/uktw.csv')"
   ]
  }
 ],
 "metadata": {
  "kernelspec": {
   "display_name": "Python 3",
   "language": "python",
   "name": "python3"
  },
  "language_info": {
   "codemirror_mode": {
    "name": "ipython",
    "version": 3
   },
   "file_extension": ".py",
   "mimetype": "text/x-python",
   "name": "python",
   "nbconvert_exporter": "python",
   "pygments_lexer": "ipython3",
   "version": "3.6.2"
  }
 },
 "nbformat": 4,
 "nbformat_minor": 2
}
