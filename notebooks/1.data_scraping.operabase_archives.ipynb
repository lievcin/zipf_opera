{
 "cells": [
  {
   "cell_type": "code",
   "execution_count": 4,
   "metadata": {},
   "outputs": [],
   "source": [
    "from bs4 import BeautifulSoup\n",
    "import requests, csv, string, re, datetime\n",
    "from csv import writer"
   ]
  },
  {
   "cell_type": "code",
   "execution_count": 50,
   "metadata": {
    "scrolled": true
   },
   "outputs": [],
   "source": [
    "def get_archive(url, base_url, season):\n",
    "    r  = requests.get(url)\n",
    "    soup = BeautifulSoup(r.text, \"html5lib\")    \n",
    "    countries  =[]\n",
    "    \n",
    "    for l in soup.select('table a'):\n",
    "        if 'plan.cgi?lang=en&season=' in l.get('href') and '&ci=':\n",
    "            country = []\n",
    "            country.append(l.text)\n",
    "            country.append(l.get('href'))        \n",
    "            countries.append(country)\n",
    "        \n",
    "    listings = []\n",
    "    countries = countries[42:]\n",
    "    for c in countries:    \n",
    "        if c[0][0] == 'A':\n",
    "            break\n",
    "#         print(c[0][0])\n",
    "        url = base_url + c[1]\n",
    "        country = c[0]\n",
    "        r  = requests.get(url)\n",
    "        soup = BeautifulSoup(r.text, \"html5lib\")\n",
    "        schedules = soup.find_all('a')\n",
    "        schedules = [s for s in schedules if 'view.cgi?lang=en&cal=' in s.get('href')]\n",
    "        for schedule in schedules:\n",
    "            city = schedule.previous_sibling.previous_sibling.find('b').text\n",
    "            theatre = ','.join(schedule.previous_sibling.previous_sibling.text.split(',')[1:]).strip()        \n",
    "            url_cal = base_url + schedule.get('href')\n",
    "#             print(url_cal)            \n",
    "            r_cal  = requests.get(url_cal)\n",
    "            soup_cal = BeautifulSoup(r_cal.text, \"html5lib\")\n",
    "            shows = soup_cal.find_all('b')[8:]\n",
    "            for show in shows:\n",
    "                info = []\n",
    "                info.append(country)\n",
    "                info.append(city)\n",
    "                info.append(theatre)                            \n",
    "                info.append(show.text)\n",
    "                link = show.parent.parent.parent.find('a').get('href')\n",
    "                date = link.split(\"date=\")[-1]\n",
    "                info.append(date)\n",
    "                listings.append(info)\n",
    "\n",
    "    with open('operabase_archive_' + season + '.csv', 'w') as outfile:\n",
    "        mywriter = writer(outfile)\n",
    "        mywriter.writerow(['country', 'city', 'theatre', 'work', 'date'])\n",
    "        for work in listings:\n",
    "            mywriter.writerow(work) \n",
    "        print('completed: ' + season)"
   ]
  },
  {
   "cell_type": "code",
   "execution_count": 51,
   "metadata": {
    "scrolled": false
   },
   "outputs": [
    {
     "name": "stdout",
     "output_type": "stream",
     "text": [
      "completed: 1516\n"
     ]
    }
   ],
   "source": [
    "# get_archive('https://web.archive.org/web/20120510091223/http://operabase.com/plan.cgi?lang=en&season=2011/12', \\\n",
    "#             'https://web.archive.org/web/20120510091223/http://operabase.com/', '1112')\n",
    "# get_archive('https://web.archive.org/web/20130223084132/http://www.operabase.com/plan.cgi?lang=en&season=2012/13', \\\n",
    "#             'https://web.archive.org/web/20130223084132/http://www.operabase.com/', '1213')\n",
    "# get_archive('https://web.archive.org/web/20140729224252/http://operabase.com:80/plan.cgi?lang=en&season=2013/14', \\\n",
    "#             'https://web.archive.org/web/20140729224252/http://operabase.com:80/', '1314')\n",
    "# get_archive('https://web.archive.org/web/20150924162245/http://operabase.com:80/plan.cgi?lang=en&season=2014/15', \\\n",
    "#             'https://web.archive.org/web/20150924162245/http://operabase.com:80/', '1415')\n",
    "# get_archive('https://web.archive.org/web/20150905064133/http://operabase.com/plan.cgi?lang=en&season=2015/16', \\\n",
    "#             'https://web.archive.org/web/20150905064133/http://operabase.com/', '1516')\n",
    "get_archive('https://web.archive.org/web/20160307032948/http://operabase.com/plan.cgi?lang=en&season=2015/16', \\\n",
    "            'https://web.archive.org/web/20160307032948/http://operabase.com/', '1516')\n",
    "# get_archive('http://operabase.com/plan.cgi?lang=en&season=2016/17', 'http://operabase.com/', '1617')\n",
    "# get_archive('http://operabase.com/plan.cgi?lang=en&season=2017/18', 'http://operabase.com/', '1718')\n",
    "\n",
    "#maybe?\n",
    "# 'https://web.archive.org/web/20110703001443/http://operabase.com/plan.cgi?lang=en&season=2010/11&ci='"
   ]
  },
  {
   "cell_type": "code",
   "execution_count": 52,
   "metadata": {},
   "outputs": [],
   "source": [
    "def get_archive(url, base_url, season):\n",
    "    r  = requests.get(url)\n",
    "    soup = BeautifulSoup(r.text, \"html5lib\")    \n",
    "    countries  =[]\n",
    "    \n",
    "    for l in soup.select('table a'):\n",
    "        if 'plan.cgi?lang=en&season=' in l.get('href') and '&ci=':\n",
    "            country = []\n",
    "            country.append(l.text)\n",
    "            country.append(l.get('href'))        \n",
    "            countries.append(country)\n",
    "        \n",
    "    listings = []\n",
    "    countries = countries[42:]\n",
    "    for c in countries:    \n",
    "        if c[0][0] == 'A':\n",
    "            break\n",
    "#         print(c[0][0])\n",
    "        url = base_url + c[1]\n",
    "        country = c[0]\n",
    "        r  = requests.get(url)\n",
    "        soup = BeautifulSoup(r.text, \"html5lib\")\n",
    "        schedules = soup.find_all('a')\n",
    "        schedules = [s for s in schedules if 'view.cgi?lang=en&cal=' in s.get('href')]\n",
    "        for schedule in schedules:\n",
    "            city = schedule.previous_sibling.previous_sibling.find('b').text\n",
    "            theatre = ','.join(schedule.previous_sibling.previous_sibling.text.split(',')[1:]).strip()        \n",
    "            url_cal = base_url + schedule.get('href')\n",
    "#             print(url_cal)            \n",
    "            r_cal  = requests.get(url_cal)\n",
    "            soup_cal = BeautifulSoup(r_cal.text, \"html5lib\")\n",
    "            shows = soup_cal.find_all('b')[8:]\n",
    "            for show in shows:\n",
    "                info = []\n",
    "                info.append(country)\n",
    "                info.append(city)\n",
    "                info.append(theatre)                            \n",
    "                info.append(show.text)\n",
    "                link = show.parent.parent.parent.find('a').get('href')\n",
    "                date = link.split(\"date=\")[-1]\n",
    "                info.append(date)\n",
    "                listings.append(info)"
   ]
  },
  {
   "cell_type": "code",
   "execution_count": 229,
   "metadata": {},
   "outputs": [
    {
     "data": {
      "text/plain": [
       "19886"
      ]
     },
     "execution_count": 229,
     "metadata": {},
     "output_type": "execute_result"
    }
   ],
   "source": []
  },
  {
   "cell_type": "code",
   "execution_count": null,
   "metadata": {},
   "outputs": [],
   "source": []
  }
 ],
 "metadata": {
  "kernelspec": {
   "display_name": "Python 3",
   "language": "python",
   "name": "python3"
  },
  "language_info": {
   "codemirror_mode": {
    "name": "ipython",
    "version": 3
   },
   "file_extension": ".py",
   "mimetype": "text/x-python",
   "name": "python",
   "nbconvert_exporter": "python",
   "pygments_lexer": "ipython3",
   "version": "3.6.2"
  }
 },
 "nbformat": 4,
 "nbformat_minor": 2
}
