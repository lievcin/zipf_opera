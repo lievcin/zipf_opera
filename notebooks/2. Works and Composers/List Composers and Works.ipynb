{
 "cells": [
  {
   "cell_type": "code",
   "execution_count": 8,
   "metadata": {},
   "outputs": [
    {
     "data": {
      "text/html": [
       "<style>.container { width:100% !important; }</style>"
      ],
      "text/plain": [
       "<IPython.core.display.HTML object>"
      ]
     },
     "metadata": {},
     "output_type": "display_data"
    }
   ],
   "source": [
    "from IPython.core.display import display, HTML\n",
    "display(HTML(\"<style>.container { width:100% !important; }</style>\"))"
   ]
  },
  {
   "cell_type": "code",
   "execution_count": 9,
   "metadata": {},
   "outputs": [],
   "source": [
    "import pandas as pd\n",
    "from datetime import datetime"
   ]
  },
  {
   "cell_type": "code",
   "execution_count": 168,
   "metadata": {},
   "outputs": [],
   "source": [
    "#OperaGlass composer list\n",
    "df = pd.read_csv('../../data/processed/works/opera_glass.csv', index_col=0)\n",
    "df = df[['composer', 'composer_info']]\n",
    "df = df.drop_duplicates()\n",
    "df.to_csv('../../data/processed/composers/opera_glass.csv', index=False)"
   ]
  },
  {
   "cell_type": "code",
   "execution_count": 179,
   "metadata": {},
   "outputs": [],
   "source": [
    "#UKTW composer list\n",
    "df = pd.read_csv('../../data/processed/listings/uk_theatreweb.csv', index_col=0)\n",
    "df = df['composer']\n",
    "df = df.dropna().drop_duplicates()\n",
    "df = df.sort_values()\n",
    "df.to_csv('../../data/processed/composers/uk_theatreweb.csv', index=False)"
   ]
  },
  {
   "cell_type": "code",
   "execution_count": 12,
   "metadata": {
    "scrolled": true
   },
   "outputs": [],
   "source": [
    "#Wikipedia composer list\n",
    "from SPARQLWrapper import SPARQLWrapper, JSON\n",
    "\n",
    "import rdflib\n",
    "from rdflib.graph import Graph\n",
    "from rdflib.namespace import Namespace\n",
    "from rdflib import plugin\n",
    "\n",
    "sparql = SPARQLWrapper(\"https://query.wikidata.org/sparql\")\n",
    "\n",
    "composer_works = []\n",
    "\n",
    "# create a construct query template.\n",
    "# NOTE: To keep it simple we create an exact copy matching a query in the local graph.\n",
    "sparql.setQuery(\"\"\"\n",
    "SELECT * WHERE {\n",
    "  {\n",
    "    SELECT ?composer ?composerLabel ?composition ?compositionLabel ?dob ?dod ?pobLabel ?cobLabel\n",
    "    WHERE {\n",
    "      ?composer wdt:P106 wd:Q36834.\n",
    "      ?composer wdt:P136 wd:Q1344.\n",
    "      OPTIONAL { ?composer wdt:P569 ?dob. }\n",
    "      OPTIONAL { ?composer wdt:P19 ?pob.\n",
    "                 ?pob wdt:P17 ?cob .\n",
    "                 FILTER NOT EXISTS {?cob wdt:P31 wd:Q3024240}     \n",
    "               }      \n",
    "      OPTIONAL { ?composer wdt:P570 ?dod. }\n",
    "      ?composition wdt:P86 ?composer.\n",
    "      ?composition wdt:P31 wd:Q1344\n",
    "      SERVICE wikibase:label { bd:serviceParam wikibase:language \"[AUTO_LANGUAGE],en,de,it,fr,nl,es,ru,hu,no,cs,ca,sv,bg,als,ja,pt,az,et,uk\". }\n",
    "    }\n",
    "  }\n",
    "#FILTER contains(lcase(?composerLabel),\"abramsky\")\n",
    "}\n",
    "ORDER BY ?composerLabel ?compositionLabel\n",
    "\"\"\")\n",
    "\n",
    "sparql.setReturnFormat(JSON)\n",
    "results = sparql.query().convert()\n",
    "\n",
    "for result in results[\"results\"][\"bindings\"]:\n",
    "    composer_work = []\n",
    "    composer      = result['composerLabel']['value']\n",
    "    composer_url  = result['composer']['value']    \n",
    "    work          = result['compositionLabel']['value']    \n",
    "    work_url      = result['composition']['value']\n",
    "\n",
    "    try:\n",
    "        country   = result['cobLabel']['value']\n",
    "    except:\n",
    "        country   = ''        \n",
    "            \n",
    "    try:\n",
    "        dob       = result['dob']['value']   \n",
    "        dob       = datetime.strptime(dob[:-10],'%Y-%m-%d').date()        \n",
    "    except:\n",
    "        dob       = datetime.strptime('2200-01-01','%Y-%m-%d').date()        \n",
    "        \n",
    "    try:\n",
    "        dod       = result['dod']['value']        \n",
    "        dod       = datetime.strptime(dod[:-10],'%Y-%m-%d').date()        \n",
    "    except:\n",
    "        dod       = datetime.strptime('2200-01-01','%Y-%m-%d').date()        \n",
    "    \n",
    "    composer_work.append(composer)\n",
    "    composer_work.append(work)\n",
    "    composer_work.append(dob)\n",
    "    composer_work.append(dod)\n",
    "    composer_work.append(country)\n",
    "    composer_work.append(composer_url)\n",
    "    composer_work.append(work_url)    \n",
    "    composer_works.append(composer_work)\n",
    "    \n",
    "import pandas as pd                     \n",
    "headers = ['composer', 'work', 'date_of_birth', 'date_of_death', 'country', 'composer_url', 'work_url']\n",
    "df = pd.DataFrame(composer_works, columns=headers)"
   ]
  },
  {
   "cell_type": "code",
   "execution_count": 13,
   "metadata": {
    "scrolled": true
   },
   "outputs": [],
   "source": [
    "#Remove works to reduce size of dataframe\n",
    "df = df[['composer', 'date_of_birth', 'date_of_death', 'country', 'composer_url']].drop_duplicates()\n",
    "\n",
    "#A bit of cleanup\n",
    "df = df[df['country']!='Catalan Republic']\n",
    "df.loc[df['composer']=='Boris Blacher', 'country'] = 'Germany'\n",
    "df.loc[df['composer']=='Boris Blacher', 'date_of_birth'] = datetime.strptime('1903-01-06','%Y-%m-%d').date()\n",
    "df.loc[df['country']=='México', 'country'] = 'Mexico'\n",
    "\n",
    "#Fixing missing nationalities of composers\n",
    "az_composers = ['Uzeyir Hajibeyov', 'Zulfugar Hajibeyov']\n",
    "fr_composers = ['Adolphe Blaise', 'Charles Gounod', 'Charles-Louis Mion', 'Joseph François Salomon', 'Georges Bizet', \n",
    "                'Louis de La Coste', 'Prosper-Didier Deshayes']\n",
    "it_composers = ['Francesco Lucio', 'Carlo Franchi']\n",
    "ru_composers = ['Alexey Verstovsky', 'Sergei Rachmaninoff', 'Zagir Ismagilov', 'Mukan Tulebaev']\n",
    "us_composers = ['Ann Millikan', 'David Carlson', 'Mark Bucci', 'William Furst', 'Harry Lawrence Freeman', 'Jan Bach', 'Libby Larsen', \n",
    "                'Lora Aborn', 'Reginald De Koven', 'Mohammed Fairouz']\n",
    "uk_composers = ['Arthur Goring Thomas', 'Jonathan Battishill', 'Julian Grant', 'Ernest Ford', 'John Barnett', 'Phyllis Tate', \n",
    "                'Christopher Bowers-Broadbent', 'David Bruce']\n",
    "ie_composers = ['Arthur Hervey', 'William Michael Rooke']\n",
    "de_composers = ['E. T. A. Hoffmann', 'Hermann Goetz', 'Otto Nicolai']\n",
    "nk_composers = ['Edvard Fliflet Bræin', 'Herman Severin Løvenskiold']\n",
    "dk_composers = ['Erling Brene']\n",
    "au_composers = ['Eric Gross']\n",
    "lt_composers = ['Vytautas Klova', 'Bronius Kutavičius']\n",
    "ukr_composers = ['Mykola Lysenko', 'Heorhiy Maiboroda']\n",
    "ge_composers = ['Meliton Balanchivadze']\n",
    "es_composers = ['Manuel Fernández Caballero']\n",
    "is_composers = ['Karólína Eiríksdóttir']\n",
    "sk_composers = ['Junsang Bahk']\n",
    "ca_composers = ['John Burge', 'J. E. P. Aldous']\n",
    "br_composers = ['Damião Barbosa de Araújo']\n",
    "\n",
    "df.loc[df['composer'].isin(az_composers), 'country'] = 'Azerbaijan'\n",
    "df.loc[df['composer'].isin(fr_composers), 'country'] = 'France'\n",
    "df.loc[df['composer'].isin(it_composers), 'country'] = 'Italy'\n",
    "df.loc[df['composer'].isin(ru_composers), 'country'] = 'Russia'\n",
    "df.loc[df['composer'].isin(us_composers), 'country'] = 'United States of America'\n",
    "df.loc[df['composer'].isin(uk_composers), 'country'] = 'United Kingdom'\n",
    "df.loc[df['composer'].isin(ie_composers), 'country'] = 'Ireland'\n",
    "df.loc[df['composer'].isin(de_composers), 'country'] = 'Germany'\n",
    "df.loc[df['composer'].isin(nk_composers), 'country'] = 'Norway'\n",
    "df.loc[df['composer'].isin(dk_composers), 'country'] = 'Denmark'\n",
    "df.loc[df['composer'].isin(au_composers), 'country'] = 'Australia'\n",
    "df.loc[df['composer'].isin(lt_composers), 'country'] = 'Lithuania'\n",
    "df.loc[df['composer'].isin(ukr_composers), 'country'] = 'Ukraine'\n",
    "df.loc[df['composer'].isin(ge_composers), 'country'] = 'Georgia'\n",
    "df.loc[df['composer'].isin(es_composers), 'country'] = 'Spain'\n",
    "df.loc[df['composer'].isin(is_composers), 'country'] = 'Iceland'\n",
    "df.loc[df['composer'].isin(sk_composers), 'country'] = 'South Korea'\n",
    "df.loc[df['composer'].isin(ca_composers), 'country'] = 'Canada'\n",
    "df.loc[df['composer'].isin(br_composers), 'country'] = 'Brazil'\n",
    "\n",
    "#Unique composers after cleanup\n",
    "df = df.drop_duplicates()\n",
    "df['composer_key'] = df.apply(lambda row: row['composer_url'].split('/')[-1], axis=1)\n",
    "df.to_csv('../../data/processed/composers/wikipedia.csv')"
   ]
  },
  {
   "cell_type": "code",
   "execution_count": 14,
   "metadata": {},
   "outputs": [],
   "source": [
    "#Saving Composers with works\n",
    "headers = ['composer', 'work', 'date_of_birth', 'date_of_death', 'country', 'composer_url', 'work_url']\n",
    "df = pd.DataFrame(composer_works, columns=headers)\n",
    "df = df[['composer', 'work', 'composer_url', 'work_url']].drop_duplicates()\n",
    "df['composer_key'] = df.apply(lambda row: row['composer_url'].split('/')[-1], axis=1)\n",
    "df['work_key'] = df.apply(lambda row: row['work_url'].split('/')[-1], axis=1)\n",
    "\n",
    "\n",
    "df.to_csv('../../data/processed/works/wikipedia.csv')"
   ]
  }
 ],
 "metadata": {
  "kernelspec": {
   "display_name": "Python 3",
   "language": "python",
   "name": "python3"
  },
  "language_info": {
   "codemirror_mode": {
    "name": "ipython",
    "version": 3
   },
   "file_extension": ".py",
   "mimetype": "text/x-python",
   "name": "python",
   "nbconvert_exporter": "python",
   "pygments_lexer": "ipython3",
   "version": "3.6.2"
  }
 },
 "nbformat": 4,
 "nbformat_minor": 2
}
