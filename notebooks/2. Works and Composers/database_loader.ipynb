{
 "cells": [
  {
   "cell_type": "code",
   "execution_count": 1,
   "metadata": {},
   "outputs": [
    {
     "data": {
      "text/html": [
       "<style>.container { width:100% !important; }</style>"
      ],
      "text/plain": [
       "<IPython.core.display.HTML object>"
      ]
     },
     "metadata": {},
     "output_type": "display_data"
    }
   ],
   "source": [
    "from IPython.core.display import display, HTML\n",
    "display(HTML(\"<style>.container { width:100% !important; }</style>\"))"
   ]
  },
  {
   "cell_type": "code",
   "execution_count": 44,
   "metadata": {},
   "outputs": [],
   "source": [
    "#database connection settings\n",
    "import psycopg2\n",
    "\n",
    "db_name = \"traviato_development\"\n",
    "db_host = \"localhost\"\n",
    "db_port = \"5432\"\n",
    "db_user = \"lievgarcia\"\n",
    "db_pwd = \"traviato81\"\n",
    "\n",
    "conn = psycopg2.connect(database=db_name, user=db_user, password=db_pwd, host=db_host, port=db_port)"
   ]
  },
  {
   "cell_type": "code",
   "execution_count": 45,
   "metadata": {},
   "outputs": [],
   "source": [
    "#COMPOSERS LOADING\n",
    "import pandas as pd\n",
    "\n",
    "df = pd.read_csv('../../data/processed/composers/wikipedia.csv', index_col=0)\n",
    "\n",
    "cursor = conn.cursor()\n",
    "for idx,row in df.iterrows():\n",
    "    insert = 'INSERT INTO COMPOSERS (NAME, COUNTRY, URL, URI) VALUES ('\n",
    "    values = \"'\" + row['composer'].replace(\"'\", \"''\") + \"', '\" + row['country'].replace(\"'\", \"''\") + \"', '\" + row['composer_url'] + \"', '\" + row['composer_key'] + \"'); \"\n",
    "    commit = 'COMMIT;'    \n",
    "#     print(insert + values + commit)\n",
    "    cursor.execute(insert + values + commit)"
   ]
  },
  {
   "cell_type": "code",
   "execution_count": null,
   "metadata": {},
   "outputs": [],
   "source": [
    "#COMPOSERS LOADING\n",
    "import pandas as pd\n",
    "\n",
    "df = pd.read_csv('../../data/processed/composers/wikipedia.csv', index_col=0)\n",
    "\n",
    "cursor = conn.cursor()\n",
    "for idx,row in df.iterrows():\n",
    "    insert = 'INSERT INTO COMPOSERS (NAME, COUNTRY, URL, URI) VALUES ('\n",
    "    values = \"'\" + row['composer'].replace(\"'\", \"''\") + \"', '\" + row['country'].replace(\"'\", \"''\") + \"', '\" + row['composer_url'] + \"', '\" + row['composer_key'] + \"'); \"\n",
    "    commit = 'COMMIT;'    \n",
    "    print(insert + values + commit)\n",
    "    cursor.execute(insert + values + commit)"
   ]
  },
  {
   "cell_type": "code",
   "execution_count": null,
   "metadata": {},
   "outputs": [],
   "source": [
    "from bs4 import BeautifulSoup\n",
    "import requests\n",
    "headers = { 'User-Agent': 'Mozilla/5.0 (Windows NT 6.0; WOW64; rv:24.0) Gecko/20100101 Firefox/24.0' }"
   ]
  },
  {
   "cell_type": "code",
   "execution_count": 167,
   "metadata": {
    "scrolled": true
   },
   "outputs": [],
   "source": [
    "import numpy as np\n",
    "cw_df = pd.read_csv('../../data/processed/works/wikipedia.csv', index_col=0)\n",
    "cwm_df = pd.read_csv('../../data/processed/works/more_works.csv', index_col=0)\n",
    "cwm_df['composer_url'] = '/'\n",
    "cwm_df['composer_key'] = cwm_df.apply(lambda row: row['composer_url'].split('/')[-1], axis=1)\n",
    "cwm_df['work_key'] = cwm_df.apply(lambda row: row['work_url'].split('/')[-1], axis=1)\n",
    "cwm_df = cwm_df.replace(np.nan, '', regex=True)\n",
    "\n",
    "cwm_df = cwm_df.merge(cw_df, left_on=['work_key'], right_on=['work_key'], how='left')\n",
    "cwm_df = cwm_df[['composer_y', 'work_y', 'composer_url_y', 'work_url_x', 'composer_key_y', 'work_key']]\n",
    "cwm_df = cwm_df.rename(index=str, columns={\"composer_y\": \"composer\", \"work_y\": \"work\", \"composer_url_y\": \"composer_url\", \"work_url_x\": \"work_url\", \"composer_key_y\": \"composer_key\"})\n",
    "\n",
    "#There are records that have not been matched and need to be updated before loading\n",
    "miss_df = cwm_df[cwm_df['composer'].isna()]"
   ]
  },
  {
   "cell_type": "code",
   "execution_count": 168,
   "metadata": {
    "scrolled": false
   },
   "outputs": [],
   "source": [
    "#Match missing works to their composers before concatenating.\n",
    "import pandas as pd\n",
    "\n",
    "cursor = conn.cursor()  \n",
    "cursor.execute(\"SELECT distinct name, url, uri FROM composers c\")\n",
    "comp_df = pd.DataFrame(cursor.fetchall(), columns=['name', 'url', 'uri'])\n",
    "\n",
    "for idx,row in miss_df.iterrows():    \n",
    "    url = row['work_url']\n",
    "    r  = requests.get(url, headers=headers)\n",
    "    soup = BeautifulSoup(r.text, \"html5lib\")\n",
    "    try:\n",
    "        result = soup.find(attrs={'id': 'P86'}).find(attrs={'class': 'wikibase-snakview-value wikibase-snakview-variation-valuesnak'})\n",
    "        composer_key = ''\n",
    "        composer_key = result.find('a').get('title')\n",
    "        composer_url = 'http://www.wikidata.org/wiki/' + composer_key\n",
    "        composer_r  = requests.get(composer_url, headers=headers)\n",
    "        composer_soup = BeautifulSoup(composer_r.text, \"html5lib\")    \n",
    "        composer_name = composer_soup.find(attrs={'class': 'wikibase-title-label'}).get_text()        \n",
    "        work_name = soup.find(attrs={'class': 'wikibase-title-label'}).get_text()     \n",
    "        if comp_df[comp_df['uri']==composer_key].shape[0] != 0:\n",
    "            row['composer'] = result.find('a').get_text()\n",
    "            row['composer_url'] = composer_url\n",
    "            row['composer_key'] = composer_key\n",
    "            row['work'] = work_name\n",
    "        else:\n",
    "            insert = 'INSERT INTO COMPOSERS (NAME, URL, URI) VALUES ('\n",
    "            values = \"'\" + composer_name + \"', '\" + composer_url + \"', '\" + composer_key + \"'); \"\n",
    "            commit = 'COMMIT;'\n",
    "            print(insert + values + commit)            \n",
    "    except:\n",
    "        if row['work_url'] == 'http://www.wikidata.org/wiki/Q7144946':\n",
    "            row['composer'] = 'Paula M. Kimper'\n",
    "            row['composer_url'] = 'http://www.wikidata.org/wiki/P000001'\n",
    "            row['composer_key'] = 'P000001'\n",
    "            row['work'] = 'Patience and Sarah'            \n",
    "        else:\n",
    "            print(composer_key + '---' + url)"
   ]
  },
  {
   "cell_type": "code",
   "execution_count": 170,
   "metadata": {},
   "outputs": [
    {
     "name": "stdout",
     "output_type": "stream",
     "text": [
      "(3976, 6)\n",
      "(599, 6)\n",
      "(501, 6)\n",
      "(98, 6)\n"
     ]
    },
    {
     "data": {
      "text/plain": [
       "(4575, 6)"
      ]
     },
     "execution_count": 170,
     "metadata": {},
     "output_type": "execute_result"
    }
   ],
   "source": [
    "mapped_df = cwm_df[~cwm_df['composer'].isna()]\n",
    "\n",
    "print(cw_df.shape)\n",
    "print(cwm_df.shape)\n",
    "print(mapped_df.shape)\n",
    "print(miss_df.shape)\n",
    "\n",
    "#Concatenate all mapped works into one DF\n",
    "ref_df = pd.concat([cw_df, mapped_df, miss_df])\n",
    "ref_df.shape"
   ]
  },
  {
   "cell_type": "code",
   "execution_count": 176,
   "metadata": {},
   "outputs": [],
   "source": [
    "#WORKS LOADING\n",
    "import pandas as pd\n",
    "\n",
    "cursor = conn.cursor()\n",
    "for idx,row in ref_df.iterrows():\n",
    "    insert = 'INSERT INTO WORKS (NAME, URL, URI, COMPOSER_URI) VALUES ('\n",
    "    values = \"'\" + row['work'].replace(\"'\", \"''\") + \"', '\" + row['work_url'] + \"', '\" + row['work_key'] + \"', '\" + row['composer_key'] + \"'); \"\n",
    "    commit = 'COMMIT;'    \n",
    "#     print(insert + values + commit)\n",
    "    cursor.execute(insert + values + commit)"
   ]
  },
  {
   "cell_type": "code",
   "execution_count": 173,
   "metadata": {},
   "outputs": [
    {
     "data": {
      "text/html": [
       "<div>\n",
       "<style scoped>\n",
       "    .dataframe tbody tr th:only-of-type {\n",
       "        vertical-align: middle;\n",
       "    }\n",
       "\n",
       "    .dataframe tbody tr th {\n",
       "        vertical-align: top;\n",
       "    }\n",
       "\n",
       "    .dataframe thead th {\n",
       "        text-align: right;\n",
       "    }\n",
       "</style>\n",
       "<table border=\"1\" class=\"dataframe\">\n",
       "  <thead>\n",
       "    <tr style=\"text-align: right;\">\n",
       "      <th></th>\n",
       "      <th>composer</th>\n",
       "      <th>work</th>\n",
       "      <th>composer_url</th>\n",
       "      <th>work_url</th>\n",
       "      <th>composer_key</th>\n",
       "      <th>work_key</th>\n",
       "    </tr>\n",
       "  </thead>\n",
       "  <tbody>\n",
       "    <tr>\n",
       "      <th>0</th>\n",
       "      <td>Aaron Copland</td>\n",
       "      <td>The Second Hurricane</td>\n",
       "      <td>http://www.wikidata.org/entity/Q192185</td>\n",
       "      <td>http://www.wikidata.org/entity/Q7762930</td>\n",
       "      <td>Q192185</td>\n",
       "      <td>Q7762930</td>\n",
       "    </tr>\n",
       "    <tr>\n",
       "      <th>1</th>\n",
       "      <td>Aaron Copland</td>\n",
       "      <td>The Tender Land</td>\n",
       "      <td>http://www.wikidata.org/entity/Q192185</td>\n",
       "      <td>http://www.wikidata.org/entity/Q4353383</td>\n",
       "      <td>Q192185</td>\n",
       "      <td>Q4353383</td>\n",
       "    </tr>\n",
       "    <tr>\n",
       "      <th>2</th>\n",
       "      <td>Aarre Merikanto</td>\n",
       "      <td>Juha</td>\n",
       "      <td>http://www.wikidata.org/entity/Q303051</td>\n",
       "      <td>http://www.wikidata.org/entity/Q4413332</td>\n",
       "      <td>Q303051</td>\n",
       "      <td>Q4413332</td>\n",
       "    </tr>\n",
       "    <tr>\n",
       "      <th>3</th>\n",
       "      <td>Aarre Merikanto</td>\n",
       "      <td>Helena</td>\n",
       "      <td>http://www.wikidata.org/entity/Q303051</td>\n",
       "      <td>http://www.wikidata.org/entity/Q15876167</td>\n",
       "      <td>Q303051</td>\n",
       "      <td>Q15876167</td>\n",
       "    </tr>\n",
       "    <tr>\n",
       "      <th>4</th>\n",
       "      <td>Abdylas Maldybaev</td>\n",
       "      <td>Ai-Churek</td>\n",
       "      <td>http://www.wikidata.org/entity/Q479615</td>\n",
       "      <td>http://www.wikidata.org/entity/Q18399378</td>\n",
       "      <td>Q479615</td>\n",
       "      <td>Q18399378</td>\n",
       "    </tr>\n",
       "  </tbody>\n",
       "</table>\n",
       "</div>"
      ],
      "text/plain": [
       "            composer                  work  \\\n",
       "0      Aaron Copland  The Second Hurricane   \n",
       "1      Aaron Copland       The Tender Land   \n",
       "2    Aarre Merikanto                  Juha   \n",
       "3    Aarre Merikanto                Helena   \n",
       "4  Abdylas Maldybaev             Ai-Churek   \n",
       "\n",
       "                             composer_url  \\\n",
       "0  http://www.wikidata.org/entity/Q192185   \n",
       "1  http://www.wikidata.org/entity/Q192185   \n",
       "2  http://www.wikidata.org/entity/Q303051   \n",
       "3  http://www.wikidata.org/entity/Q303051   \n",
       "4  http://www.wikidata.org/entity/Q479615   \n",
       "\n",
       "                                   work_url composer_key   work_key  \n",
       "0   http://www.wikidata.org/entity/Q7762930      Q192185   Q7762930  \n",
       "1   http://www.wikidata.org/entity/Q4353383      Q192185   Q4353383  \n",
       "2   http://www.wikidata.org/entity/Q4413332      Q303051   Q4413332  \n",
       "3  http://www.wikidata.org/entity/Q15876167      Q303051  Q15876167  \n",
       "4  http://www.wikidata.org/entity/Q18399378      Q479615  Q18399378  "
      ]
     },
     "execution_count": 173,
     "metadata": {},
     "output_type": "execute_result"
    }
   ],
   "source": [
    "ref_df.head()"
   ]
  },
  {
   "cell_type": "code",
   "execution_count": null,
   "metadata": {},
   "outputs": [],
   "source": []
  }
 ],
 "metadata": {
  "kernelspec": {
   "display_name": "Python 3",
   "language": "python",
   "name": "python3"
  },
  "language_info": {
   "codemirror_mode": {
    "name": "ipython",
    "version": 3
   },
   "file_extension": ".py",
   "mimetype": "text/x-python",
   "name": "python",
   "nbconvert_exporter": "python",
   "pygments_lexer": "ipython3",
   "version": "3.6.2"
  }
 },
 "nbformat": 4,
 "nbformat_minor": 2
}
