{
 "cells": [
  {
   "cell_type": "code",
   "execution_count": 1,
   "metadata": {},
   "outputs": [
    {
     "data": {
      "text/html": [
       "<style>.container { width:100% !important; }</style>"
      ],
      "text/plain": [
       "<IPython.core.display.HTML object>"
      ]
     },
     "metadata": {},
     "output_type": "display_data"
    }
   ],
   "source": [
    "from IPython.core.display import display, HTML\n",
    "display(HTML(\"<style>.container { width:100% !important; }</style>\"))"
   ]
  },
  {
   "cell_type": "code",
   "execution_count": 2,
   "metadata": {},
   "outputs": [],
   "source": [
    "#database connection settings\n",
    "import psycopg2\n",
    "\n",
    "db_name = \"traviato_development\"\n",
    "db_host = \"localhost\"\n",
    "db_port = \"5432\"\n",
    "db_user = \"lievgarcia\"\n",
    "db_pwd = \"traviato81\"\n",
    "\n",
    "conn = psycopg2.connect(database=db_name, user=db_user, password=db_pwd, host=db_host, port=db_port)"
   ]
  },
  {
   "cell_type": "code",
   "execution_count": 9,
   "metadata": {
    "scrolled": false
   },
   "outputs": [
    {
     "name": "stdout",
     "output_type": "stream",
     "text": [
      "Ernest Ford similar to: Ernest Gold\n",
      "Johann Strauss II similar to: Johann Strauss I\n",
      "John Cage similar to: John Cale\n",
      "Paul Dessau similar to: Paul Nassau\n",
      "Carl Zeller similar to: Carl Telle\n",
      "Jacques Aubert similar to: Jacques Ibert\n",
      "Antonio Boroni similar to: Antonio Bioni\n",
      "Carlo Franchi similar to: Carlo Franci\n",
      "Antonio Bioni similar to: Antonio Boroni\n",
      "Jonathan Dove similar to: Jonathan Dawe\n",
      "Michael Arne similar to: Michael Arden\n",
      "Richard Fall similar to: Richard Hill\n",
      "Tom Johnson similar to: Tom Johnstone\n",
      "Jacques Ibert similar to: Jacques Aubert\n",
      "Carlo Franci similar to: Carlo Franchi\n",
      "Robert J. Sherman similar to: Robert B. Sherman\n",
      "Richard Hill similar to: Richard Fall\n",
      "Paul Nassau similar to: Paul Dessau\n",
      "Robert B. Sherman similar to: Robert J. Sherman\n",
      "Michael Gore similar to: Michael Torke\n",
      "John Cale similar to: John Cage\n",
      "Ernest Gold similar to: Ernest Ford\n",
      "Johann Strauss I similar to: Johann Strauss II\n",
      "Jára Beneš similar to: Juraj Beneš\n",
      "Michael Arden similar to: Michael Arne\n",
      "David Wood similar to: David Toop\n",
      "Tom Johnstone similar to: Tom Johnson\n",
      "Victoria Wood similar to: Victoria Bond\n",
      "Juraj Beneš similar to: Jára Beneš\n",
      "John Craton similar to: John Eaton\n",
      "John Eaton similar to: John Craton\n",
      "John Glover similar to: John Oliver\n",
      "John Oliver similar to: John Glover\n",
      "Jonathan Dawe similar to: Jonathan Dove\n",
      "Michael Torke similar to: Michael Gore\n",
      "Victoria Bond similar to: Victoria Wood\n",
      "Carl Telle similar to: Carl Zeller\n",
      "Giovanni Battista Martini similar to: Giovanni Battista Mariani\n",
      "Giovanni Battista Mariani similar to: Giovanni Battista Martini\n",
      "David Toop similar to: David Wood\n"
     ]
    }
   ],
   "source": [
    "######################  USE AKAS FOR WORKS BASED ON PREVIOUS MAPPINGS ########################\n",
    "import pandas as pd\n",
    "\n",
    "############################ database connection settings ####################################\n",
    "import psycopg2\n",
    "db_name = \"traviato_development\"\n",
    "db_host = \"localhost\"\n",
    "db_port = \"5432\"\n",
    "db_user = \"lievgarcia\"\n",
    "db_pwd = \"traviato81\"\n",
    "conn = psycopg2.connect(database=db_name, user=db_user, password=db_pwd, host=db_host, port=db_port)\n",
    "##############################################################################################\n",
    "\n",
    "cursor = conn.cursor()  \n",
    "query = \"select id, name from composers c\"\n",
    "cursor.execute(query)\n",
    "\n",
    "c_df = pd.DataFrame(cursor.fetchall(), columns=['id', 'name'])\n",
    "\n",
    "################################ MAP COMPOSERS CONTAINED IN LISTINGS ##############################\n",
    "\n",
    "import Levenshtein\n",
    "\n",
    "map_dict = {}\n",
    "composers_dict = {}\n",
    "\n",
    "for idx2,row in c_df.iterrows():        \n",
    "    composers_dict[row['id']] = row['name']\n",
    "\n",
    "for key in composers_dict.keys():\n",
    "    composer = composers_dict.get(key)\n",
    "    for other_key in composers_dict.keys():\n",
    "        if key != other_key:\n",
    "            other_composer = composers_dict.get(other_key)\n",
    "            distance = Levenshtein.distance(composer.lower(), other_composer.lower())\n",
    "            if distance < 3:\n",
    "                print(composers_dict.get(key) + ' similar to: ' + composers_dict.get(other_key))"
   ]
  },
  {
   "cell_type": "code",
   "execution_count": null,
   "metadata": {},
   "outputs": [],
   "source": []
  }
 ],
 "metadata": {
  "kernelspec": {
   "display_name": "Python 3",
   "language": "python",
   "name": "python3"
  },
  "language_info": {
   "codemirror_mode": {
    "name": "ipython",
    "version": 3
   },
   "file_extension": ".py",
   "mimetype": "text/x-python",
   "name": "python",
   "nbconvert_exporter": "python",
   "pygments_lexer": "ipython3",
   "version": "3.6.2"
  }
 },
 "nbformat": 4,
 "nbformat_minor": 2
}
