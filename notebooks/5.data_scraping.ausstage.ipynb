{
 "cells": [
  {
   "cell_type": "code",
   "execution_count": 1,
   "metadata": {},
   "outputs": [],
   "source": [
    "import pandas as pd"
   ]
  },
  {
   "cell_type": "code",
   "execution_count": 8,
   "metadata": {
    "scrolled": true
   },
   "outputs": [],
   "source": [
    "df = pd.read_excel('../data/raw/ausstage.xlsx')\n",
    "australia_regions = ['SA', 'NSW', 'VIC', 'QLD', 'WA', 'TAS', 'ACT', 'NT', '[Unknown]']\n",
    "df[df.country.isin(australia_regions)]\n",
    "df.to_csv('../data/processed/ausstage.csv')"
   ]
  },
  {
   "cell_type": "code",
   "execution_count": 5,
   "metadata": {},
   "outputs": [
    {
     "data": {
      "text/plain": [
       "array(['SA', 'NSW', 'VIC', 'England', 'QLD', 'United States of America',\n",
       "       'WA', 'TAS', 'ACT', 'Netherlands', 'Germany', 'Denmark', 'NT',\n",
       "       'South Korea', 'Scotland', 'New Zealand', '[Unknown]', 'Canada',\n",
       "       'China'], dtype=object)"
      ]
     },
     "execution_count": 5,
     "metadata": {},
     "output_type": "execute_result"
    }
   ],
   "source": [
    "df.country.unique()"
   ]
  },
  {
   "cell_type": "code",
   "execution_count": null,
   "metadata": {},
   "outputs": [],
   "source": []
  }
 ],
 "metadata": {
  "kernelspec": {
   "display_name": "Python 3",
   "language": "python",
   "name": "python3"
  },
  "language_info": {
   "codemirror_mode": {
    "name": "ipython",
    "version": 3
   },
   "file_extension": ".py",
   "mimetype": "text/x-python",
   "name": "python",
   "nbconvert_exporter": "python",
   "pygments_lexer": "ipython3",
   "version": "3.6.2"
  }
 },
 "nbformat": 4,
 "nbformat_minor": 2
}
