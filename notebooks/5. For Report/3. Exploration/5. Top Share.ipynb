{
 "cells": [
  {
   "cell_type": "code",
   "execution_count": 3,
   "metadata": {},
   "outputs": [
    {
     "data": {
      "text/html": [
       "<style>.container { width:100% !important; }</style>"
      ],
      "text/plain": [
       "<IPython.core.display.HTML object>"
      ]
     },
     "metadata": {},
     "output_type": "display_data"
    }
   ],
   "source": [
    "from IPython.core.display import display, HTML\n",
    "display(HTML(\"<style>.container { width:100% !important; }</style>\"))"
   ]
  },
  {
   "cell_type": "code",
   "execution_count": 4,
   "metadata": {},
   "outputs": [],
   "source": [
    "#database connection settings\n",
    "import psycopg2\n",
    "\n",
    "db_name = \"traviato_development\"\n",
    "db_host = \"localhost\"\n",
    "db_port = \"5432\"\n",
    "db_user = \"lievgarcia\"\n",
    "db_pwd = \"traviato81\"\n",
    "\n",
    "conn = psycopg2.connect(database=db_name, user=db_user, password=db_pwd, host=db_host, port=db_port)"
   ]
  },
  {
   "cell_type": "code",
   "execution_count": 5,
   "metadata": {},
   "outputs": [],
   "source": [
    "######################## libraries ########################\n",
    "\n",
    "%matplotlib inline\n",
    "import matplotlib as mpl\n",
    "import matplotlib.pyplot as plt\n",
    "from matplotlib import rc\n",
    "import matplotlib.ticker as ticker\n",
    "import numpy as np\n",
    "\n",
    "import sys\n",
    "sys.path.append('../../')\n",
    "\n",
    "from utils.utility_functions import label_top\n",
    "from utils.utility_functions import get_last_name\n",
    "from utils.utility_functions import make_dash_zero\n",
    "# from utils.utility_functions import shorten_opera_name\n",
    "\n",
    "##################### CHARTING OPTIONS #####################\n",
    "\n",
    "# rc('font',**{'family':'sans-serif','sans-serif':['Helvetica']})\n",
    "rc('font',**{'family':'serif','serif':['Palatino']})\n",
    "\n",
    "rc('text', usetex=True)\n",
    "from cycler import cycler\n",
    "mpl.rcParams['axes.prop_cycle'] = cycler(color='bgrcmyk')\n",
    "\n",
    "colors = ['#8a170f', '#8a540f', '#828a0f', '#458a0f', '#0f8a17', '#0f8a54', '#0f828a', '#0f458a', '#170f8a', '#540f8a', '#8a0f82', '#8a0f45', '#8a170f']\n",
    "\n",
    "\n",
    "##################### SOURCES OPTIONS #####################\n",
    "\n",
    "archival_sources = ['Metropolitan Opera', 'Opera Scotland', 'Royal Opera House', 'Teatro alla Scala', 'Wiener Staatsoper', \n",
    "                    'Chicago Lyric Opera','San Francisco Opera','Czech National Theatre','Glyndebourne','Salzburg Festival',\n",
    "                    'Sweden Opera House','National Opera de Paris','Opera Comique']\n",
    "commercial_sources_world = ['bachtrack.com','operabase.com','operacritic.com']\n",
    "commercial_sources_uk = ['Concert-Diary','U.K. Theatre Web']\n",
    "government_sources = ['National Central Opera Service Reports', 'Opera America']\n",
    "\n",
    "##############################################################################"
   ]
  },
  {
   "cell_type": "code",
   "execution_count": null,
   "metadata": {},
   "outputs": [],
   "source": [
    "import pandas as pd\n",
    "\n",
    "columns=['source_id', 'source_name', 'composer', 'work', 'country', 'state', 'city', 'theatre', 'date_start', 'date_end', 'premiere_date', 'performance_count']\n",
    "\n",
    "cursor = conn.cursor()  \n",
    "query = \"SELECT s.id as source_id, \" + \\\n",
    "        \"       s.name as source_name, \" + \\\n",
    "        \"       coalesce(c.name, l.composer) as composer, \" + \\\n",
    "        \"       coalesce(w.name, l.work) as work, \" + \\\n",
    "        \"       l.country, \" + \\\n",
    "        \"       l.state, \" + \\\n",
    "        \"       l.city, \" + \\\n",
    "        \"       l.theatre, \" + \\\n",
    "        \"       l.date_start, \" + \\\n",
    "        \"       l.date_end, \" + \\\n",
    "        \"       w.premiere_date, \" + \\\n",
    "        \"       l.performance_count \" + \\\n",
    "        \"from sources s \" + \\\n",
    "        \"INNER JOIN listings l on s.id = l.source_id \" + \\\n",
    "        \"LEFT JOIN listing_mappers lm ON l.map_key = lm.map_key \" + \\\n",
    "        \"LEFT JOIN works w ON lm.work_uri = w.uri \" + \\\n",
    "        \"LEFT JOIN composers c ON w.composer_id = c.id \" + \\\n",
    "        \"ORDER BY s.id, l.country, l.state, l.city\"\n",
    "        \n",
    "cursor.execute(query)\n",
    "\n",
    "mdf = pd.DataFrame(cursor.fetchall(), columns=columns)\n",
    "mdf['year'] = mdf.apply(lambda row: row['date_start'].year, axis=1)\n",
    "mdf['decade'] = mdf.apply(lambda row: 10*int(row['year']/10), axis=1)\n",
    "mdf[['premiere_date']] = mdf[['premiere_date']].fillna(value=0)\n",
    "mdf['work_decade'] = mdf.apply(lambda row: 10*int(row['premiere_date']/10), axis=1)"
   ]
  },
  {
   "cell_type": "code",
   "execution_count": null,
   "metadata": {},
   "outputs": [],
   "source": [
    "#################### top composers share of repertoire ####################\n",
    "\n",
    "sources = archival_sources\n",
    "num_sources = len(sources)\n",
    "\n",
    "o_df = mdf.copy()\n",
    "o_df = o_df[o_df['source_name'].isin(sources)]\n",
    "o_df = o_df[o_df['work'] != 'Unknown']\n",
    "o_df = o_df[o_df['composer'] != '']\n",
    "o_df = o_df[o_df['year'] < 2019]\n",
    "\n",
    "for source in sources:\n",
    "    dat = o_df[o_df['source_name']==source]\n",
    "    c_df = dat.groupby(['composer'])\n",
    "    c_df = c_df.agg({'performance_count': np.sum })\n",
    "    top_composers = list(c_df.sort_values(by=['performance_count'], ascending=False).index.values[0:5])    \n",
    "    o_df['composer'] = o_df.apply(lambda row: label_top(row['source_name'], source, row['composer'], top_composers), axis=1)\n",
    "    \n",
    "c_df = o_df.groupby(['source_name', 'year', 'composer']).agg({'performance_count': np.sum })\n",
    "c_df = c_df.groupby(level = ['source_name', 'year']).transform(lambda x: x/x.sum())\n",
    "c_df = c_df.reset_index(level=['year', 'composer'])\n",
    "\n",
    "fig = plt.figure(figsize=(15, 25))\n",
    "\n",
    "for num, source in enumerate(sources):\n",
    "    \n",
    "    dat = c_df.loc[source]\n",
    "    dat = dat[dat['composer']=='Top']\n",
    "    dates = dat['year'].values\n",
    "\n",
    "    ax = plt.subplot(num_sources, 1, num + 1)\n",
    "    plt.bar(dates, dat['performance_count'], label=source, color=colors[num], linewidth=3)\n",
    "    ax.set_title(source)\n",
    "    \n",
    "    axes = plt.gca()\n",
    "    axes.set_ylim([0,1])\n",
    "    axes.axhline(y=.5, dashes=[1, 1], color='#000000')\n",
    "    axes.yaxis.set_major_locator(ticker.MultipleLocator(0.5))\n",
    "\n",
    "# plt.tight_layout()\n",
    "\n",
    "###############################################################"
   ]
  },
  {
   "cell_type": "code",
   "execution_count": null,
   "metadata": {},
   "outputs": [],
   "source": []
  }
 ],
 "metadata": {
  "kernelspec": {
   "display_name": "Python 3",
   "language": "python",
   "name": "python3"
  },
  "language_info": {
   "codemirror_mode": {
    "name": "ipython",
    "version": 3
   },
   "file_extension": ".py",
   "mimetype": "text/x-python",
   "name": "python",
   "nbconvert_exporter": "python",
   "pygments_lexer": "ipython3",
   "version": "3.6.2"
  }
 },
 "nbformat": 4,
 "nbformat_minor": 2
}
