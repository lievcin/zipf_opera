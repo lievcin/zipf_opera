{
 "cells": [
  {
   "cell_type": "code",
   "execution_count": 30,
   "metadata": {
    "scrolled": true
   },
   "outputs": [],
   "source": [
    "from bs4 import BeautifulSoup\n",
    "import re\n",
    "from datetime import datetime\n",
    "\n",
    "with open('../data/raw/opera_america2.html', encoding=\"utf-8\") as f:\n",
    "    data = f.read()\n",
    "    soup = BeautifulSoup(data, 'html.parser')"
   ]
  },
  {
   "cell_type": "code",
   "execution_count": 49,
   "metadata": {
    "scrolled": true
   },
   "outputs": [],
   "source": [
    "listings = []\n",
    "table_listings = soup.find_all(attrs={'class': 'rgMasterTable'})\n",
    "\n",
    "for table_listing in table_listings:\n",
    "    \n",
    "    rows = table_listing.find_all('tr', {\"class\": re.compile(r\"^(rgRow|rgAltRow)$\")})\n",
    "\n",
    "    for row in rows:\n",
    "        items = row.find_all('td')\n",
    "        if items:\n",
    "            theatre  = items[0].get_text()\n",
    "            work     = items[1].get_text()\n",
    "            composer = items[2].get_text()\n",
    "            date     = datetime.strptime(items[3].get_text(), '%A, %B %d, %Y').date()\n",
    "            listing = [theatre, work, composer, date]\n",
    "            listings.append(listing)"
   ]
  },
  {
   "cell_type": "code",
   "execution_count": 50,
   "metadata": {},
   "outputs": [
    {
     "data": {
      "text/plain": [
       "['OperaDelaware',\n",
       " 'The Tales of Hoffmann',\n",
       " 'Offenbach',\n",
       " datetime.date(1991, 5, 1)]"
      ]
     },
     "execution_count": 50,
     "metadata": {},
     "output_type": "execute_result"
    }
   ],
   "source": [
    "listings[-1]"
   ]
  },
  {
   "cell_type": "code",
   "execution_count": 51,
   "metadata": {},
   "outputs": [],
   "source": [
    "import pandas as pd                     \n",
    "headers = ['theatre', 'work', 'composer', 'date' ]\n",
    "df = pd.DataFrame(listings, columns=headers)\n",
    "df.to_csv('../data/processed/operaamerica_listings.csv')"
   ]
  },
  {
   "cell_type": "code",
   "execution_count": null,
   "metadata": {},
   "outputs": [],
   "source": []
  }
 ],
 "metadata": {
  "kernelspec": {
   "display_name": "Python 3",
   "language": "python",
   "name": "python3"
  },
  "language_info": {
   "codemirror_mode": {
    "name": "ipython",
    "version": 3
   },
   "file_extension": ".py",
   "mimetype": "text/x-python",
   "name": "python",
   "nbconvert_exporter": "python",
   "pygments_lexer": "ipython3",
   "version": "3.6.2"
  }
 },
 "nbformat": 4,
 "nbformat_minor": 2
}
