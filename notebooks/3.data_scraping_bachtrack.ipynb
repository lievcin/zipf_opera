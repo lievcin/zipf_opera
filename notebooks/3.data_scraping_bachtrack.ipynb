{
 "cells": [
  {
   "cell_type": "code",
   "execution_count": 16,
   "metadata": {
    "scrolled": true
   },
   "outputs": [],
   "source": [
    "from bs4 import BeautifulSoup\n",
    "import requests\n",
    "headers = { 'User-Agent': 'Mozilla/5.0 (Windows NT 6.0; WOW64; rv:24.0) Gecko/20100101 Firefox/24.0' }\n",
    "\n",
    "base_url = 'https://bachtrack.com/find-opera/category=2;datefrom=20180501;medium=1'"
   ]
  },
  {
   "cell_type": "code",
   "execution_count": null,
   "metadata": {
    "scrolled": true
   },
   "outputs": [],
   "source": [
    "productions = []\n",
    "\n",
    "for page in range(25):\n",
    "    print(page)\n",
    "    url = base_url + ';startrow=' + str(page*50)    \n",
    "    r  = requests.get(url, headers=headers)\n",
    "    soup = BeautifulSoup(r.text, \"html5lib\")\n",
    "    listings = soup.find_all(attrs={'class': 'listing-shortform'})\n",
    "    for listing in listings:\n",
    "        listing_url = 'https://bachtrack.com' + listing.find(attrs={'class': 'listing-more-info'}).get('href')\n",
    "        listing_deets = BeautifulSoup(requests.get(listing_url, headers=headers).text, \"html5lib\")\n",
    "        venue = listing_deets.find(attrs={'class': 'listing-venue'}).text\n",
    "        dates = listing_deets.find(attrs={'class': 'listing-main-date'}).text\n",
    "        city = listing_deets.find(attrs={'class': 'addressLocality'}).get_text() \n",
    "        country = listing_deets.find(itemprop=\"addressCountry\").get_text()                 \n",
    "        programme = listing_deets.find(attrs={'id': 'tbody_listing-programme'})\n",
    "        if programme == None:\n",
    "            print(listing_url)\n",
    "        else:    \n",
    "            for row in programme.find_all('tr'):\n",
    "                detail = []\n",
    "                for item in row.find_all('a'):\n",
    "                    if '/composer/' in item.get('href'):\n",
    "                        composer = item.get_text()\n",
    "                for item in row.find_all('a'):\n",
    "                    if '/work/' in item.get('href'):\n",
    "                        work = item.get_text()\n",
    "                        detail.append(country)\n",
    "                        detail.append(city)\n",
    "                        detail.append(venue)                    \n",
    "                        detail.append(dates)\n",
    "                        detail.append(composer)\n",
    "                        detail.append(work)\n",
    "                        detail.append(listing_url)                    \n",
    "                        productions.append(detail)"
   ]
  },
  {
   "cell_type": "code",
   "execution_count": 226,
   "metadata": {
    "scrolled": true
   },
   "outputs": [],
   "source": [
    "import re\n",
    "\n",
    "years = ['2017', '2018', '2019']\n",
    "months = ['January', 'February', 'March', 'April', 'May', 'June', 'July', 'August', 'September', 'October', 'November', 'December']\n",
    "days = ['01', '02', '03', '04', '05', '06', '07', '08', '09', '10', \n",
    "        '11', '12', '13', '14', '15', '16', '17', '18', '19', '20', \n",
    "        '21', '22', '23', '24', '25', '26', '27', '28', '29', '30', \n",
    "        '31', '1', '2', '3', '4', '5', '6', '7', '8', '9']    \n",
    "dow = ['Monday', 'Tuesday', 'Wednesday', 'Thursday', 'Friday', 'Saturday', 'Sunday']\n",
    "\n",
    "def get_dates(date_str):\n",
    "\n",
    "    dates_list = []        \n",
    "    dates = re.split('; |, | |\\*|\\n',date_str)\n",
    "    year = str(2018)\n",
    "    month = ''\n",
    "    day = ''\n",
    "    \n",
    "    if any(ext in dates for ext in dow):\n",
    "        for idx in range(len(dates)):\n",
    "            if dates[idx] in days:\n",
    "                day = dates[idx]\n",
    "            if dates[idx] in months:\n",
    "                month = dates[idx]\n",
    "            if dates[idx] in years:\n",
    "                year = dates[idx]\n",
    "                new_date = year + '-' + month + '-' + day\n",
    "                dates_list.append(new_date)\n",
    "    else:            \n",
    "        for idx in range(len(dates)):\n",
    "            if dates[idx] in years:\n",
    "                year = dates[idx]\n",
    "            if dates[idx] in months:\n",
    "                month = dates[idx]\n",
    "            if dates[idx] in days:\n",
    "                new_date = year + '-' + month + '-' + str(dates[idx])\n",
    "                dates_list.append(new_date)\n",
    "    return dates_list"
   ]
  },
  {
   "cell_type": "code",
   "execution_count": 228,
   "metadata": {},
   "outputs": [],
   "source": [
    "listings = []\n",
    "for production in productions:\n",
    "    dates = get_dates(production[3])\n",
    "    for date in dates:        \n",
    "        listing = []\n",
    "        listing.append(production[0])\n",
    "        listing.append(production[1])\n",
    "        listing.append(production[2])\n",
    "        listing.append(date)\n",
    "        listing.append(production[4])\n",
    "        listing.append(production[5])\n",
    "        listing.append(production[6])\n",
    "        listings.append(listing)"
   ]
  },
  {
   "cell_type": "code",
   "execution_count": 231,
   "metadata": {},
   "outputs": [],
   "source": [
    "import pandas as pd                     \n",
    "headers = ['country', 'city', 'venue', 'date', 'composer', 'work', 'listing_url']\n",
    "df = pd.DataFrame(listings, columns=headers)\n",
    "df.to_csv('../data/raw/bachtrack_listings.csv')"
   ]
  }
 ],
 "metadata": {
  "kernelspec": {
   "display_name": "Python 3",
   "language": "python",
   "name": "python3"
  },
  "language_info": {
   "codemirror_mode": {
    "name": "ipython",
    "version": 3
   },
   "file_extension": ".py",
   "mimetype": "text/x-python",
   "name": "python",
   "nbconvert_exporter": "python",
   "pygments_lexer": "ipython3",
   "version": "3.6.2"
  }
 },
 "nbformat": 4,
 "nbformat_minor": 2
}
