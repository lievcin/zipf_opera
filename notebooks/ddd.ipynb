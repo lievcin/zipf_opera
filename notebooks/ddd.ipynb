{
 "cells": [
  {
   "cell_type": "code",
   "execution_count": 1,
   "metadata": {},
   "outputs": [],
   "source": [
    "import pandas as pd"
   ]
  },
  {
   "cell_type": "code",
   "execution_count": 3,
   "metadata": {},
   "outputs": [],
   "source": [
    "df = pd.read_excel('../operabase_combined.xlsx', sheet_name='data')"
   ]
  },
  {
   "cell_type": "code",
   "execution_count": 4,
   "metadata": {},
   "outputs": [
    {
     "data": {
      "text/html": [
       "<div>\n",
       "<style scoped>\n",
       "    .dataframe tbody tr th:only-of-type {\n",
       "        vertical-align: middle;\n",
       "    }\n",
       "\n",
       "    .dataframe tbody tr th {\n",
       "        vertical-align: top;\n",
       "    }\n",
       "\n",
       "    .dataframe thead th {\n",
       "        text-align: right;\n",
       "    }\n",
       "</style>\n",
       "<table border=\"1\" class=\"dataframe\">\n",
       "  <thead>\n",
       "    <tr style=\"text-align: right;\">\n",
       "      <th></th>\n",
       "      <th>country</th>\n",
       "      <th>city</th>\n",
       "      <th>theatre</th>\n",
       "      <th>work</th>\n",
       "      <th>date</th>\n",
       "      <th>year</th>\n",
       "      <th>season</th>\n",
       "      <th>country.1</th>\n",
       "      <th>city.1</th>\n",
       "      <th>theatre.1</th>\n",
       "    </tr>\n",
       "  </thead>\n",
       "  <tbody>\n",
       "    <tr>\n",
       "      <th>0</th>\n",
       "      <td>Austria</td>\n",
       "      <td>Baden bei Wien</td>\n",
       "      <td>Stadttheater Baden</td>\n",
       "      <td>Faust</td>\n",
       "      <td>20111023</td>\n",
       "      <td>2011</td>\n",
       "      <td>2011/2012</td>\n",
       "      <td>Austria</td>\n",
       "      <td>Baden bei Wien</td>\n",
       "      <td>Stadttheater Baden</td>\n",
       "    </tr>\n",
       "    <tr>\n",
       "      <th>1</th>\n",
       "      <td>Austria</td>\n",
       "      <td>Baden bei Wien</td>\n",
       "      <td>Stadttheater Baden</td>\n",
       "      <td>Faust</td>\n",
       "      <td>20111025</td>\n",
       "      <td>2011</td>\n",
       "      <td>2011/2012</td>\n",
       "      <td>Austria</td>\n",
       "      <td>Baden bei Wien</td>\n",
       "      <td>Stadttheater Baden</td>\n",
       "    </tr>\n",
       "    <tr>\n",
       "      <th>2</th>\n",
       "      <td>Austria</td>\n",
       "      <td>Baden bei Wien</td>\n",
       "      <td>Stadttheater Baden</td>\n",
       "      <td>Faust</td>\n",
       "      <td>20111027</td>\n",
       "      <td>2011</td>\n",
       "      <td>2011/2012</td>\n",
       "      <td>Austria</td>\n",
       "      <td>Baden bei Wien</td>\n",
       "      <td>Stadttheater Baden</td>\n",
       "    </tr>\n",
       "    <tr>\n",
       "      <th>3</th>\n",
       "      <td>Austria</td>\n",
       "      <td>Baden bei Wien</td>\n",
       "      <td>Stadttheater Baden</td>\n",
       "      <td>Faust</td>\n",
       "      <td>20111029</td>\n",
       "      <td>2011</td>\n",
       "      <td>2011/2012</td>\n",
       "      <td>Austria</td>\n",
       "      <td>Baden bei Wien</td>\n",
       "      <td>Stadttheater Baden</td>\n",
       "    </tr>\n",
       "    <tr>\n",
       "      <th>4</th>\n",
       "      <td>Austria</td>\n",
       "      <td>Baden bei Wien</td>\n",
       "      <td>Stadttheater Baden</td>\n",
       "      <td>Faust</td>\n",
       "      <td>20111030</td>\n",
       "      <td>2011</td>\n",
       "      <td>2011/2012</td>\n",
       "      <td>Austria</td>\n",
       "      <td>Baden bei Wien</td>\n",
       "      <td>Stadttheater Baden</td>\n",
       "    </tr>\n",
       "  </tbody>\n",
       "</table>\n",
       "</div>"
      ],
      "text/plain": [
       "   country            city             theatre   work      date  year  \\\n",
       "0  Austria  Baden bei Wien  Stadttheater Baden  Faust  20111023  2011   \n",
       "1  Austria  Baden bei Wien  Stadttheater Baden  Faust  20111025  2011   \n",
       "2  Austria  Baden bei Wien  Stadttheater Baden  Faust  20111027  2011   \n",
       "3  Austria  Baden bei Wien  Stadttheater Baden  Faust  20111029  2011   \n",
       "4  Austria  Baden bei Wien  Stadttheater Baden  Faust  20111030  2011   \n",
       "\n",
       "      season country.1          city.1           theatre.1  \n",
       "0  2011/2012   Austria  Baden bei Wien  Stadttheater Baden  \n",
       "1  2011/2012   Austria  Baden bei Wien  Stadttheater Baden  \n",
       "2  2011/2012   Austria  Baden bei Wien  Stadttheater Baden  \n",
       "3  2011/2012   Austria  Baden bei Wien  Stadttheater Baden  \n",
       "4  2011/2012   Austria  Baden bei Wien  Stadttheater Baden  "
      ]
     },
     "execution_count": 4,
     "metadata": {},
     "output_type": "execute_result"
    }
   ],
   "source": [
    "df = pd.read_excel('../operabase_combined.xlsx', sheet_name='data')"
   ]
  },
  {
   "cell_type": "code",
   "execution_count": 19,
   "metadata": {},
   "outputs": [
    {
     "data": {
      "text/plain": [
       "(133974, 10)"
      ]
     },
     "execution_count": 19,
     "metadata": {},
     "output_type": "execute_result"
    }
   ],
   "source": [
    "df_1 = df.drop_duplicates()\n",
    "df_1.shape"
   ]
  },
  {
   "cell_type": "code",
   "execution_count": 20,
   "metadata": {},
   "outputs": [
    {
     "data": {
      "text/plain": [
       "(137705, 10)"
      ]
     },
     "execution_count": 20,
     "metadata": {},
     "output_type": "execute_result"
    }
   ],
   "source": [
    "df.shape"
   ]
  },
  {
   "cell_type": "code",
   "execution_count": null,
   "metadata": {},
   "outputs": [],
   "source": []
  }
 ],
 "metadata": {
  "kernelspec": {
   "display_name": "Python 3",
   "language": "python",
   "name": "python3"
  },
  "language_info": {
   "codemirror_mode": {
    "name": "ipython",
    "version": 3
   },
   "file_extension": ".py",
   "mimetype": "text/x-python",
   "name": "python",
   "nbconvert_exporter": "python",
   "pygments_lexer": "ipython3",
   "version": "3.6.2"
  }
 },
 "nbformat": 4,
 "nbformat_minor": 2
}
