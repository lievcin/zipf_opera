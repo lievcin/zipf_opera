{
 "cells": [
  {
   "cell_type": "code",
   "execution_count": 183,
   "metadata": {},
   "outputs": [
    {
     "data": {
      "text/html": [
       "<style>.container { width:100% !important; }</style>"
      ],
      "text/plain": [
       "<IPython.core.display.HTML object>"
      ]
     },
     "metadata": {},
     "output_type": "display_data"
    }
   ],
   "source": [
    "from IPython.core.display import display, HTML\n",
    "display(HTML(\"<style>.container { width:100% !important; }</style>\"))"
   ]
  },
  {
   "cell_type": "code",
   "execution_count": 99,
   "metadata": {
    "scrolled": true
   },
   "outputs": [],
   "source": [
    "from bs4 import BeautifulSoup\n",
    "import requests\n",
    "from datetime import datetime\n",
    "\n",
    "headers = { 'User-Agent': 'Mozilla/5.0 (Windows NT 6.0; WOW64; rv:24.0) Gecko/20100101 Firefox/24.0' }\n",
    "\n",
    "base_url = 'http://archiv.narodni-divadlo.cz/Dokument.aspx'\n",
    "\n",
    "cookies = {'ASP.NET_SessionId': 'qufgl145qjgxg045p5ogkueh',\n",
    "           '__utma': '164443680.1207962213.1532937559.1532937559.1532937559.1',\n",
    "           '__utmz': '164443680.1532937559.1.1.utmcsr=google|utmccn=(organic)|utmcmd=organic|utmctr=(not%20provided)',\n",
    "           '__utmc':'164443680'\n",
    "          }"
   ]
  },
  {
   "cell_type": "code",
   "execution_count": 123,
   "metadata": {
    "scrolled": true
   },
   "outputs": [],
   "source": [
    "season_numbers = []\n",
    "\n",
    "params = {\n",
    "    'jz': 'en',\n",
    "    'pn': '256affcc-f105-1000-85ff-c11223344aaa',\n",
    "    'dk': 'podlesezon.aspx'\n",
    "}\n",
    "\n",
    "r  = requests.get(base_url, headers=headers, cookies=cookies, data=params)\n",
    "soup = BeautifulSoup(r.text, \"html5lib\")\n",
    "seasons = soup.find_all('tr')[0].find_all('tr')\n",
    "\n",
    "for season in seasons[12:]:\n",
    "    season_numbers.append(season.find('a').get('href').split('&')[-2].split('=')[1])"
   ]
  },
  {
   "cell_type": "code",
   "execution_count": 174,
   "metadata": {},
   "outputs": [
    {
     "name": "stdout",
     "output_type": "stream",
     "text": [
      "['125', '123', '127', '128', '130', '132', '133', '134', '135', '139', '137', '140', '142', '144', '143', '146', '147', '149', '152', '153', '154', '156', '158', '160', '161', '164', '162', '165', '167', '168', '170', '172', '173', '175', '176', '177', '179', '180', '183', '182', '185', '186', '187', '188', '190', '189', '191', '192', '193', '194', '196', '195', '198', '199', '200', '202', '204', '206', '209', '208', '212', '211', '227', '213', '214', '216', '221', '217', '219', '220', '222', '225', '224', '226', '231', '233', '232', '235', '236', '237', '238', '239', '241', '242', '243', '244', '249', '245', '248', '247', '251', '252', '254', '255', '256', '257', '258', '259', '260', '261', '262', '264', '266', '267', '269', '272', '270', '273', '275', '277', '279', '281', '283', '285', '286', '288', '289', '117', '118', '119', '122', '290', '291', '292', '295', '296', '297', '298', '299', '300', '301', '302', '303', '304', '305', '306', '307']\n"
     ]
    }
   ],
   "source": [
    "print(season_numbers)"
   ]
  },
  {
   "cell_type": "code",
   "execution_count": 177,
   "metadata": {
    "scrolled": true
   },
   "outputs": [
    {
     "name": "stdout",
     "output_type": "stream",
     "text": [
      "125\n",
      "123\n",
      "127\n",
      "128\n",
      "130\n",
      "132\n",
      "133\n",
      "134\n",
      "135\n",
      "139\n",
      "137\n",
      "140\n",
      "142\n",
      "144\n",
      "143\n",
      "146\n",
      "147\n",
      "149\n",
      "152\n",
      "153\n",
      "154\n",
      "156\n",
      "158\n",
      "160\n",
      "161\n",
      "164\n",
      "162\n",
      "165\n",
      "167\n",
      "168\n",
      "170\n",
      "172\n",
      "173\n",
      "175\n",
      "176\n",
      "177\n",
      "179\n",
      "180\n",
      "183\n",
      "182\n",
      "185\n",
      "186\n",
      "187\n",
      "188\n",
      "190\n",
      "189\n",
      "191\n",
      "192\n",
      "193\n",
      "194\n",
      "196\n",
      "195\n",
      "198\n",
      "199\n",
      "200\n",
      "202\n",
      "204\n",
      "206\n",
      "209\n",
      "208\n",
      "212\n",
      "211\n",
      "227\n",
      "213\n",
      "214\n",
      "216\n",
      "221\n",
      "217\n",
      "219\n",
      "220\n",
      "222\n",
      "225\n",
      "224\n",
      "226\n",
      "231\n",
      "233\n",
      "232\n",
      "235\n",
      "236\n",
      "237\n",
      "238\n",
      "239\n",
      "241\n",
      "242\n",
      "243\n",
      "244\n",
      "249\n",
      "245\n",
      "248\n",
      "247\n",
      "251\n",
      "252\n",
      "254\n",
      "255\n",
      "256\n",
      "257\n",
      "258\n",
      "259\n",
      "260\n",
      "261\n",
      "262\n",
      "264\n",
      "266\n",
      "267\n",
      "269\n",
      "272\n",
      "270\n",
      "273\n",
      "275\n",
      "277\n",
      "279\n",
      "281\n",
      "283\n",
      "285\n",
      "286\n",
      "288\n",
      "289\n",
      "117\n",
      "118\n",
      "119\n",
      "122\n",
      "290\n",
      "291\n",
      "292\n",
      "295\n",
      "296\n",
      "297\n",
      "298\n",
      "299\n",
      "300\n",
      "301\n",
      "302\n",
      "303\n",
      "304\n",
      "305\n",
      "306\n",
      "307\n"
     ]
    }
   ],
   "source": [
    "base_url = 'http://archiv.narodni-divadlo.cz/Dokument.aspx'\n",
    "\n",
    "listings = []\n",
    "\n",
    "for season in season_numbers:\n",
    "    print(season)\n",
    "    params = {\n",
    "        'jz': 'en',\n",
    "        'pn': '256affcc-f105-1000-85ff-c11223344aaa',\n",
    "        'sz': str(season),\n",
    "        'dk': 'PodleSezon_DenniProgram.aspx',\n",
    "        'zz': 'OPR',\n",
    "        'odmr': '000000'    \n",
    "    }\n",
    "    \n",
    "    r  = requests.get(base_url, headers=headers, cookies=cookies, data=params)\n",
    "    soup = BeautifulSoup(r.text, \"html5lib\")\n",
    "\n",
    "    items = soup.find('table').find('tr').find_all('p')\n",
    "\n",
    "    for item in items[3:]:\n",
    "        listing = []\n",
    "        try:\n",
    "            date = item.find('strong').get_text()[0:10]\n",
    "            date = datetime.strptime(date, '%d.%m.%Y').date()\n",
    "            work = item.find('a').get_text().strip()\n",
    "            composer = item.find('span', attrs={'class': 'CervenyText'})\n",
    "            composer = composer.get_text().strip()\n",
    "\n",
    "            listing.append(date)\n",
    "            listing.append(work)            \n",
    "            listing.append(composer)\n",
    "#             print(listing)\n",
    "            listings.append(listing)\n",
    "        except:\n",
    "            None        \n",
    "#             print(item)\n",
    "        \n",
    "\n",
    "import pandas as pd                     \n",
    "headers = ['date', 'work', 'composer']\n",
    "df = pd.DataFrame(listings, columns=headers)\n",
    "df.to_csv('../../data/processed/listings/national_theatre_prague.csv')    "
   ]
  }
 ],
 "metadata": {
  "kernelspec": {
   "display_name": "Python 3",
   "language": "python",
   "name": "python3"
  },
  "language_info": {
   "codemirror_mode": {
    "name": "ipython",
    "version": 3
   },
   "file_extension": ".py",
   "mimetype": "text/x-python",
   "name": "python",
   "nbconvert_exporter": "python",
   "pygments_lexer": "ipython3",
   "version": "3.6.2"
  }
 },
 "nbformat": 4,
 "nbformat_minor": 2
}
