{
 "cells": [
  {
   "cell_type": "code",
   "execution_count": 50,
   "metadata": {
    "scrolled": true
   },
   "outputs": [],
   "source": [
    "from bs4 import BeautifulSoup\n",
    "import requests\n",
    "from datetime import datetime\n",
    "\n",
    "headers = { 'User-Agent': 'Mozilla/5.0 (Windows NT 6.0; WOW64; rv:24.0) Gecko/20100101 Firefox/24.0' }\n",
    "\n",
    "base_url = 'http://archive.sfopera.com/qry1operalist.asp?start='"
   ]
  },
  {
   "cell_type": "code",
   "execution_count": 51,
   "metadata": {
    "scrolled": true
   },
   "outputs": [
    {
     "name": "stdout",
     "output_type": "stream",
     "text": [
      "0\n",
      "10\n",
      "20\n",
      "30\n",
      "40\n",
      "50\n",
      "60\n",
      "70\n",
      "80\n",
      "90\n"
     ]
    }
   ],
   "source": [
    "listings = []\n",
    "\n",
    "for page in range(97):\n",
    "    \n",
    "    if page%10==0:\n",
    "        print(page)\n",
    "        \n",
    "    url = base_url + str(20*page + 1)\n",
    "    r  = requests.get(url, headers=headers)\n",
    "    soup = BeautifulSoup(r.text, \"html5lib\")\n",
    "    results = soup.find_all('table')\n",
    "    results = results[3].find_all('tr')\n",
    "    \n",
    "    for result in results[1:-1]:\n",
    "        cells = result.find_all('td')\n",
    "        season = cells[0].get_text().strip()\n",
    "        work = cells[1].get_text().split('{')[0].strip()\n",
    "        composer = cells[2].get_text().strip()\n",
    "\n",
    "        dates_url = 'http://archive.sfopera.com/' + cells[9].find('a').get('href')\n",
    "        \n",
    "        r  = requests.get(dates_url, headers=headers)\n",
    "        soup = BeautifulSoup(r.text, \"html5lib\")        \n",
    "        dates = soup.find_all('table')\n",
    "        dates = dates[3].find_all('tr')\n",
    "        \n",
    "        for date in dates[1:-1]:\n",
    "            \n",
    "            listing  = []\n",
    "            \n",
    "            cells = date.find_all('td')\n",
    "            perf = cells[2].get_text().strip()\n",
    "            perf = datetime.strptime(perf, '%A, %b  %d %Y  %I:%M%p').date()            \n",
    "            \n",
    "            listing.append(season)                        \n",
    "            listing.append(work)\n",
    "            listing.append(perf)\n",
    "            listing.append(composer)\n",
    "            listings.append(listing)\n",
    "            \n",
    "#Saving results into dataframe and folder            \n",
    "# import pandas as pd                     \n",
    "# headers = ['season', 'work', 'date', 'composer']\n",
    "# df = pd.DataFrame(listings, columns=headers)\n",
    "# df.to_csv('../../data/processed/listings/san_francisco_opera.csv')            "
   ]
  },
  {
   "cell_type": "code",
   "execution_count": 53,
   "metadata": {},
   "outputs": [],
   "source": [
    "import pandas as pd                     \n",
    "headers = ['season', 'work', 'date', 'composer']\n",
    "df = pd.DataFrame(listings, columns=headers)\n",
    "df.to_csv('../../data/processed/listings/san_francisco_opera.csv')            "
   ]
  },
  {
   "cell_type": "code",
   "execution_count": 54,
   "metadata": {},
   "outputs": [
    {
     "data": {
      "text/plain": [
       "5983"
      ]
     },
     "execution_count": 54,
     "metadata": {},
     "output_type": "execute_result"
    }
   ],
   "source": [
    "len(listings)"
   ]
  },
  {
   "cell_type": "code",
   "execution_count": null,
   "metadata": {},
   "outputs": [],
   "source": []
  }
 ],
 "metadata": {
  "kernelspec": {
   "display_name": "Python 3",
   "language": "python",
   "name": "python3"
  },
  "language_info": {
   "codemirror_mode": {
    "name": "ipython",
    "version": 3
   },
   "file_extension": ".py",
   "mimetype": "text/x-python",
   "name": "python",
   "nbconvert_exporter": "python",
   "pygments_lexer": "ipython3",
   "version": "3.6.2"
  }
 },
 "nbformat": 4,
 "nbformat_minor": 2
}
