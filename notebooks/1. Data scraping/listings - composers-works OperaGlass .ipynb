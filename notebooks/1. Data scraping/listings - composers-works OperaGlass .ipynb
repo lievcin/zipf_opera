{
 "cells": [
  {
   "cell_type": "code",
   "execution_count": 1,
   "metadata": {
    "scrolled": true
   },
   "outputs": [],
   "source": [
    "from bs4 import BeautifulSoup\n",
    "import requests, csv, string, re\n",
    "from csv import writer\n",
    "\n",
    "abc = 'ABCDEFGHIJKLMNOPQRSTUVWXYZ'\n",
    "abc = list(abc)\n",
    "base_url = 'http://opera.stanford.edu/composers/'"
   ]
  },
  {
   "cell_type": "code",
   "execution_count": 59,
   "metadata": {
    "scrolled": true
   },
   "outputs": [],
   "source": [
    "dictionary= []\n",
    "for l in abc:\n",
    "#     print(l)\n",
    "    url = base_url + l + '.html'\n",
    "    r  = requests.get(url)\n",
    "    soup = BeautifulSoup(r.text, \"html5lib\")\n",
    "    \n",
    "    results = soup.find('ul')\n",
    "    results = [r for r in results.children]\n",
    "    \n",
    "    for result in results:\n",
    "        try:\n",
    "            composer = result.find('b').get_text()\n",
    "            composer_info = result.find('ul').previous_sibling\n",
    "            works = result.find('ul').find_all('li')\n",
    "            for work in works:\n",
    "                composition = []\n",
    "                opera = work.find('i').get_text()\n",
    "                composition.append(composer)\n",
    "                composition.append(composer_info)\n",
    "                composition.append(opera)\n",
    "                dictionary.append(composition)\n",
    "        except:\n",
    "            None\n",
    "\n",
    "            \n",
    "import pandas as pd\n",
    "headers = ['composer', 'composer_info', 'work']\n",
    "df = pd.DataFrame(dictionary, columns=headers)\n",
    "df.to_csv('../../data/processed/opera_glass_works.csv')"
   ]
  },
  {
   "cell_type": "code",
   "execution_count": 60,
   "metadata": {},
   "outputs": [
    {
     "data": {
      "text/plain": [
       "(26599, 3)"
      ]
     },
     "execution_count": 60,
     "metadata": {},
     "output_type": "execute_result"
    }
   ],
   "source": [
    "df.shape"
   ]
  }
 ],
 "metadata": {
  "kernelspec": {
   "display_name": "Python 3",
   "language": "python",
   "name": "python3"
  },
  "language_info": {
   "codemirror_mode": {
    "name": "ipython",
    "version": 3
   },
   "file_extension": ".py",
   "mimetype": "text/x-python",
   "name": "python",
   "nbconvert_exporter": "python",
   "pygments_lexer": "ipython3",
   "version": "3.6.2"
  }
 },
 "nbformat": 4,
 "nbformat_minor": 2
}
