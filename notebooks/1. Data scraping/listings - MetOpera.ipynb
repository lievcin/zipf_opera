{
 "cells": [
  {
   "cell_type": "code",
   "execution_count": 8,
   "metadata": {
    "scrolled": true
   },
   "outputs": [],
   "source": [
    "from bs4 import BeautifulSoup, NavigableString\n",
    "import requests\n",
    "from datetime import datetime\n",
    "import re\n",
    "\n",
    "headers = { 'User-Agent': 'Mozilla/5.0 (Windows NT 6.0; WOW64; rv:24.0) Gecko/20100101 Firefox/24.0' }"
   ]
  },
  {
   "cell_type": "code",
   "execution_count": 12,
   "metadata": {
    "scrolled": true
   },
   "outputs": [
    {
     "name": "stdout",
     "output_type": "stream",
     "text": [
      "1\n",
      "2\n",
      "3\n",
      "4\n",
      "5\n",
      "6\n",
      "7\n"
     ]
    }
   ],
   "source": [
    "listings = []\n",
    "\n",
    "for i in range(1, 8):\n",
    "    \n",
    "    with open('../../data/raw/metopera/search_' + str(i) + '.html', encoding=\"windows-1252\") as f:\n",
    "        data = f.read()\n",
    "        soup = BeautifulSoup(data, 'html.parser')\n",
    "        \n",
    "    rows = soup.find_all('tr')[1:]\n",
    "    for idx,row in enumerate(rows):\n",
    "        links = row.find_all('a')\n",
    "        for link in links:\n",
    "            listing = []\n",
    "            if 'http://69.18.170.204/archives/scripts' in link.get('href'):\n",
    "                work     = link.get_text().split('{')[0].strip()\n",
    "                work_url = link.get('href')\n",
    "                try:\n",
    "                    date     = link.next_sibling.contents[0].strip().split(';')[-1].strip()\n",
    "                    date     = datetime.strptime(date, '%m/%d/%Y').date()\n",
    "                except:\n",
    "                    try:\n",
    "                        date     = link.next_sibling.contents[0].strip().split(' ')[-1].strip()\n",
    "                        date     = datetime.strptime(date, '%m/%d/%Y').date()\n",
    "                    except:\n",
    "                        date     = link.next_sibling.contents[0].strip().split(' ')[-1].strip()\n",
    "                        date     = datetime.strptime(date, '%m/%d/%y').date()                        \n",
    "                \n",
    "                #create listing entry\n",
    "                listing.append(work)\n",
    "                listing.append(date)     \n",
    "                listings.append(listing)\n",
    "    print(i)\n",
    "            \n",
    "# #Saving results into dataframe and folder            \n",
    "import pandas as pd                     \n",
    "headers = ['work', 'date']\n",
    "df = pd.DataFrame(listings, columns=headers)\n",
    "df.to_csv('../../data/processed/met_opera_listings.csv')            "
   ]
  },
  {
   "cell_type": "code",
   "execution_count": 13,
   "metadata": {},
   "outputs": [
    {
     "data": {
      "text/plain": [
       "28725"
      ]
     },
     "execution_count": 13,
     "metadata": {},
     "output_type": "execute_result"
    }
   ],
   "source": [
    "len(listings)"
   ]
  }
 ],
 "metadata": {
  "kernelspec": {
   "display_name": "Python 3",
   "language": "python",
   "name": "python3"
  },
  "language_info": {
   "codemirror_mode": {
    "name": "ipython",
    "version": 3
   },
   "file_extension": ".py",
   "mimetype": "text/x-python",
   "name": "python",
   "nbconvert_exporter": "python",
   "pygments_lexer": "ipython3",
   "version": "3.6.2"
  }
 },
 "nbformat": 4,
 "nbformat_minor": 2
}
