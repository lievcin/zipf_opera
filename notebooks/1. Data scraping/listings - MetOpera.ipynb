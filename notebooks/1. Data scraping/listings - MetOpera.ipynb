{
 "cells": [
  {
   "cell_type": "code",
   "execution_count": 37,
   "metadata": {
    "scrolled": true
   },
   "outputs": [],
   "source": [
    "from bs4 import BeautifulSoup, NavigableString\n",
    "import requests\n",
    "from datetime import datetime\n",
    "import re\n",
    "\n",
    "headers = { 'User-Agent': 'Mozilla/5.0 (Windows NT 6.0; WOW64; rv:24.0) Gecko/20100101 Firefox/24.0' }"
   ]
  },
  {
   "cell_type": "code",
   "execution_count": 60,
   "metadata": {
    "scrolled": true
   },
   "outputs": [
    {
     "ename": "TypeError",
     "evalue": "'str' object is not callable",
     "output_type": "error",
     "traceback": [
      "\u001b[0;31m---------------------------------------------------------------------------\u001b[0m",
      "\u001b[0;31mIndexError\u001b[0m                                Traceback (most recent call last)",
      "\u001b[0;32m<ipython-input-60-7e48490b504c>\u001b[0m in \u001b[0;36m<module>\u001b[0;34m()\u001b[0m\n\u001b[1;32m     23\u001b[0m                 \u001b[0;32mtry\u001b[0m\u001b[0;34m:\u001b[0m\u001b[0;34m\u001b[0m\u001b[0m\n\u001b[0;32m---> 24\u001b[0;31m                     \u001b[0mname\u001b[0m \u001b[0;34m=\u001b[0m \u001b[0mwork_soup\u001b[0m\u001b[0;34m(\u001b[0m\u001b[0;34m'b'\u001b[0m\u001b[0;34m,\u001b[0m \u001b[0mtext\u001b[0m\u001b[0;34m=\u001b[0m\u001b[0mre\u001b[0m\u001b[0;34m.\u001b[0m\u001b[0mcompile\u001b[0m\u001b[0;34m(\u001b[0m\u001b[0mwork\u001b[0m\u001b[0;34m.\u001b[0m\u001b[0mupper\u001b[0m\u001b[0;34m(\u001b[0m\u001b[0;34m)\u001b[0m\u001b[0;34m)\u001b[0m\u001b[0;34m)\u001b[0m\u001b[0;34m[\u001b[0m\u001b[0;36m0\u001b[0m\u001b[0;34m]\u001b[0m\u001b[0;34m\u001b[0m\u001b[0m\n\u001b[0m\u001b[1;32m     25\u001b[0m                     \u001b[0mname\u001b[0m \u001b[0;34m=\u001b[0m \u001b[0mname\u001b[0m\u001b[0;34m.\u001b[0m\u001b[0mnext_sibling\u001b[0m\u001b[0;34m\u001b[0m\u001b[0m\n",
      "\u001b[0;31mIndexError\u001b[0m: list index out of range",
      "\nDuring handling of the above exception, another exception occurred:\n",
      "\u001b[0;31mTypeError\u001b[0m                                 Traceback (most recent call last)",
      "\u001b[0;32m<ipython-input-60-7e48490b504c>\u001b[0m in \u001b[0;36m<module>\u001b[0;34m()\u001b[0m\n\u001b[1;32m     25\u001b[0m                     \u001b[0mname\u001b[0m \u001b[0;34m=\u001b[0m \u001b[0mname\u001b[0m\u001b[0;34m.\u001b[0m\u001b[0mnext_sibling\u001b[0m\u001b[0;34m\u001b[0m\u001b[0m\n\u001b[1;32m     26\u001b[0m                 \u001b[0;32mexcept\u001b[0m\u001b[0;34m:\u001b[0m\u001b[0;34m\u001b[0m\u001b[0m\n\u001b[0;32m---> 27\u001b[0;31m                     \u001b[0mprint\u001b[0m\u001b[0;34m(\u001b[0m\u001b[0mlink\u001b[0m\u001b[0;34m.\u001b[0m\u001b[0mtext\u001b[0m\u001b[0;34m(\u001b[0m\u001b[0;34m)\u001b[0m\u001b[0;34m)\u001b[0m\u001b[0;34m\u001b[0m\u001b[0m\n\u001b[0m\u001b[1;32m     28\u001b[0m \u001b[0;34m\u001b[0m\u001b[0m\n\u001b[1;32m     29\u001b[0m                 \u001b[0;32mwhile\u001b[0m \u001b[0;32mTrue\u001b[0m\u001b[0;34m:\u001b[0m\u001b[0;34m\u001b[0m\u001b[0m\n",
      "\u001b[0;31mTypeError\u001b[0m: 'str' object is not callable"
     ]
    }
   ],
   "source": [
    "listings = []\n",
    "\n",
    "for i in range(1, 8):\n",
    "    \n",
    "    with open('../../data/raw/metopera/search_' + str(i) + '.html', encoding=\"windows-1252\") as f:\n",
    "        data = f.read()\n",
    "        soup = BeautifulSoup(data, 'html.parser')\n",
    "        \n",
    "    rows = soup.find_all('tr')[1:]\n",
    "    for idx,row in enumerate(rows):\n",
    "        links = row.find_all('a')\n",
    "        for link in links:\n",
    "            if 'http://69.18.170.204/archives/scripts' in link.get('href'):\n",
    "                work     = link.get_text().split('{')[0].strip()\n",
    "                work_url = link.get('href')\n",
    "                date     = link.next_sibling.contents[0].strip().split(';')[-1].strip()\n",
    "                date     = datetime.strptime(date, '%m/%d/%Y').date()\n",
    "                \n",
    "                link.get_text()\n",
    "                work_r    = requests.get(link.get('href'), headers=headers)\n",
    "                work_soup = BeautifulSoup(work_r.text, \"html5lib\")\n",
    "                \n",
    "                try:\n",
    "                    name = work_soup('b', text=re.compile(work.upper()))[0]\n",
    "                    name = name.next_sibling\n",
    "                except:\n",
    "                    print(link.text())\n",
    "                \n",
    "                while True:\n",
    "                    name = name.next_sibling\n",
    "                    if name.name == 'br':\n",
    "                        try:                        \n",
    "                            people = name.next_sibling.strip()\n",
    "#                             print(people)\n",
    "                        except:\n",
    "                            None\n",
    "#                             print(work)\n",
    "#                             print(idx)\n",
    "\n",
    "#                         tag_name = name.nameget_text()\n",
    "\n",
    "                        break                    \n",
    "#                 name = name.next_sibling.next_sibling.next_sibling\n",
    "\n",
    "            \n",
    "#             #create listing entry\n",
    "#             listing.append(composer)\n",
    "#             listing.append(work)\n",
    "#             listing.append(theatre)            \n",
    "#             listing.append(city)\n",
    "#             listing.append(date)     \n",
    "#             listings.append(listing)\n",
    "            \n",
    "# #Saving results into dataframe and folder            \n",
    "# import pandas as pd                     \n",
    "# headers = ['composer', 'work', 'theatre', 'city', 'date']\n",
    "# df = pd.DataFrame(listings, columns=headers)\n",
    "# df.to_csv('../../data/processed/concert_diary_listings.csv')            "
   ]
  },
  {
   "cell_type": "code",
   "execution_count": null,
   "metadata": {},
   "outputs": [],
   "source": [
    "# df.city.unique()"
   ]
  },
  {
   "cell_type": "code",
   "execution_count": null,
   "metadata": {},
   "outputs": [],
   "source": []
  }
 ],
 "metadata": {
  "kernelspec": {
   "display_name": "Python 3",
   "language": "python",
   "name": "python3"
  },
  "language_info": {
   "codemirror_mode": {
    "name": "ipython",
    "version": 3
   },
   "file_extension": ".py",
   "mimetype": "text/x-python",
   "name": "python",
   "nbconvert_exporter": "python",
   "pygments_lexer": "ipython3",
   "version": "3.6.2"
  }
 },
 "nbformat": 4,
 "nbformat_minor": 2
}
