{
 "cells": [
  {
   "cell_type": "code",
   "execution_count": 2,
   "metadata": {},
   "outputs": [],
   "source": [
    "import pandas as pd"
   ]
  },
  {
   "cell_type": "code",
   "execution_count": 72,
   "metadata": {
    "scrolled": true
   },
   "outputs": [],
   "source": [
    "df = pd.read_excel('../../data/raw/ausstage.xlsx')\n",
    "australia_regions = ['SA', 'NSW', 'VIC', 'QLD', 'WA', 'TAS', 'ACT', 'NT', '[Unknown]']\n",
    "df = df[df.country.isin(australia_regions)]"
   ]
  },
  {
   "cell_type": "code",
   "execution_count": 73,
   "metadata": {},
   "outputs": [],
   "source": [
    "from datetime import datetime, date\n",
    "\n",
    "def make_date(row):    \n",
    "    a = 1\n",
    "    if 'datetime' in str(type(row['date'])):\n",
    "        a = row['date'].date()        \n",
    "        None\n",
    "    elif 'str' in str(type(row['date'])):\n",
    "        try:\n",
    "            a = datetime.strptime(row['date'], '%d %B %Y').date()  \n",
    "        except:\n",
    "            a = datetime.strptime('1 '+ row['date'], '%d %B %Y').date()  \n",
    "    elif 'int' in str(type(row['date'])):\n",
    "        a = datetime(row['date'], 1, 1).date()\n",
    "#         print(b)        \n",
    "        \n",
    "    return a\n",
    "\n",
    "df['date'] = df.apply(lambda row: make_date(row), axis=1)\n",
    "df.to_csv('../../data/processed/listings/ausstage.csv')"
   ]
  },
  {
   "cell_type": "code",
   "execution_count": 70,
   "metadata": {},
   "outputs": [
    {
     "data": {
      "text/plain": [
       "array(['SA', 'NSW', 'VIC', 'QLD', 'WA', 'TAS', 'ACT', 'NT', '[Unknown]'], dtype=object)"
      ]
     },
     "execution_count": 70,
     "metadata": {},
     "output_type": "execute_result"
    }
   ],
   "source": [
    "df.country.unique()"
   ]
  }
 ],
 "metadata": {
  "kernelspec": {
   "display_name": "Python 3",
   "language": "python",
   "name": "python3"
  },
  "language_info": {
   "codemirror_mode": {
    "name": "ipython",
    "version": 3
   },
   "file_extension": ".py",
   "mimetype": "text/x-python",
   "name": "python",
   "nbconvert_exporter": "python",
   "pygments_lexer": "ipython3",
   "version": "3.6.2"
  }
 },
 "nbformat": 4,
 "nbformat_minor": 2
}
