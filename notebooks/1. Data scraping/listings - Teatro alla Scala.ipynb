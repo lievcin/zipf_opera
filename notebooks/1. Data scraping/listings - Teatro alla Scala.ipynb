{
 "cells": [
  {
   "cell_type": "code",
   "execution_count": 69,
   "metadata": {
    "scrolled": true
   },
   "outputs": [],
   "source": [
    "from bs4 import BeautifulSoup\n",
    "import requests\n",
    "import math\n",
    "from datetime import datetime\n",
    "\n",
    "headers = { 'User-Agent': 'Mozilla/5.0 (Windows NT 6.0; WOW64; rv:24.0) Gecko/20100101 Firefox/24.0' }\n",
    "\n",
    "base_url = 'http://www.teatroallascala.org/archivio/risultato.aspx?lang=en-US&uid=bec93984-a124-4f54-9bfa-cb5d7bd6d71d&objecttype=base&pagesize=9&sort=1&page='"
   ]
  },
  {
   "cell_type": "code",
   "execution_count": 70,
   "metadata": {
    "scrolled": true
   },
   "outputs": [
    {
     "name": "stdout",
     "output_type": "stream",
     "text": [
      "10\n",
      "20\n",
      "30\n",
      "40\n",
      "50\n",
      "60\n",
      "70\n",
      "80\n",
      "90\n",
      "100\n",
      "110\n",
      "120\n"
     ]
    }
   ],
   "source": [
    "listings = []\n",
    "\n",
    "for page in range(1,128):\n",
    "    \n",
    "    if page%10==0:\n",
    "        print(page)\n",
    "        \n",
    "    url     = base_url + str(page)    \n",
    "    r       = requests.get(url, headers=headers)\n",
    "    soup    = BeautifulSoup(r.text, \"html5lib\")\n",
    "    results = soup.find_all(attrs={'class': 'risultato'})\n",
    "    \n",
    "    for result in results:\n",
    "        work = result.find('a').get('title')\n",
    "        \n",
    "        rows = result.find(attrs={'class': 'inner-risultato'}).find_all('strong')\n",
    "        composer = ''\n",
    "        for row in rows:\n",
    "            if 'music by' in row.get_text().lower():\n",
    "                composer = row.next_sibling        \n",
    "        \n",
    "        #First page of results, only contains 9 items\n",
    "        season_url   = 'http://www.teatroallascala.org' + result.find('a').get('href')\n",
    "        season_deets = BeautifulSoup(requests.get(season_url, headers=headers).text, \"html5lib\")                \n",
    "        season_results = season_deets.find_all(attrs={'class': 'risultato'})\n",
    "        for season_result in season_results:\n",
    "            rows = season_result.find(attrs={'class': 'inner-risultato'}).find_all('strong')\n",
    "            for row in rows:\n",
    "                if 'show' in row.get_text().lower():\n",
    "                    date = row.next_sibling.split(' ')\n",
    "                    date = [x for x in date if x!='']\n",
    "                    date = date[1] + '/' + date[2] + '/' + date[3]  \n",
    "                    date = datetime.strptime(date, '%d/%B/%Y').date()\n",
    "                                        \n",
    "                    listing = []\n",
    "                    listing.append(work)\n",
    "                    listing.append(composer)\n",
    "                    listing.append(date)\n",
    "                    listings.append(listing)\n",
    "#                     print(listing)                    \n",
    "\n",
    "        #Subsequent pages of results\n",
    "        sub_pages = season_deets.find(attrs={'class': 'pagination pagination-small'})\n",
    "        if sub_pages:\n",
    "            sub_pages = sub_pages.find_all('a')\n",
    "            for sub_page in sub_pages[:-1]:\n",
    "                season_url   = 'http://www.teatroallascala.org' + sub_page.get('href')\n",
    "                season_deets = BeautifulSoup(requests.get(season_url, headers=headers).text, \"html5lib\")        \n",
    "                season_results = season_deets.find_all(attrs={'class': 'risultato'})\n",
    "                for season_result in season_results:\n",
    "                    rows = season_result.find(attrs={'class': 'inner-risultato'}).find_all('strong')\n",
    "                    for row in rows:\n",
    "                        if 'show' in row.get_text().lower():\n",
    "                            date = row.next_sibling.split(' ')\n",
    "                            date = [x for x in date if x!='']\n",
    "                            date = date[1] + '/' + date[2] + '/' + date[3]  \n",
    "                            date = datetime.strptime(date, '%d/%B/%Y').date()\n",
    "                            listing = []\n",
    "                            listing.append(work)\n",
    "                            listing.append(composer)\n",
    "                            listing.append(date)\n",
    "                            listings.append(listing)\n",
    "#                             print(listing)\n",
    "\n",
    "# #Saving results into dataframe and folder            \n",
    "import pandas as pd                     \n",
    "headers = ['work', 'composer', 'date']\n",
    "df = pd.DataFrame(listings, columns=headers)\n",
    "df.to_csv('../../data/processed/teatro_all_scala_listings.csv')"
   ]
  },
  {
   "cell_type": "code",
   "execution_count": 71,
   "metadata": {},
   "outputs": [
    {
     "data": {
      "text/plain": [
       "(7615, 3)"
      ]
     },
     "execution_count": 71,
     "metadata": {},
     "output_type": "execute_result"
    }
   ],
   "source": [
    "df.shape"
   ]
  },
  {
   "cell_type": "code",
   "execution_count": null,
   "metadata": {},
   "outputs": [],
   "source": []
  }
 ],
 "metadata": {
  "kernelspec": {
   "display_name": "Python 3",
   "language": "python",
   "name": "python3"
  },
  "language_info": {
   "codemirror_mode": {
    "name": "ipython",
    "version": 3
   },
   "file_extension": ".py",
   "mimetype": "text/x-python",
   "name": "python",
   "nbconvert_exporter": "python",
   "pygments_lexer": "ipython3",
   "version": "3.6.2"
  }
 },
 "nbformat": 4,
 "nbformat_minor": 2
}
