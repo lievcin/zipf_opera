{
 "cells": [
  {
   "cell_type": "code",
   "execution_count": 8,
   "metadata": {},
   "outputs": [
    {
     "data": {
      "text/html": [
       "<style>.container { width:100% !important; }</style>"
      ],
      "text/plain": [
       "<IPython.core.display.HTML object>"
      ]
     },
     "metadata": {},
     "output_type": "display_data"
    }
   ],
   "source": [
    "from IPython.core.display import display, HTML\n",
    "display(HTML(\"<style>.container { width:100% !important; }</style>\"))"
   ]
  },
  {
   "cell_type": "code",
   "execution_count": 56,
   "metadata": {
    "scrolled": true
   },
   "outputs": [],
   "source": [
    "from bs4 import BeautifulSoup\n",
    "import requests\n",
    "from datetime import datetime\n",
    "\n",
    "headers = { 'User-Agent': 'Mozilla/5.0 (Windows NT 6.0; WOW64; rv:24.0) Gecko/20100101 Firefox/24.0' }\n",
    "base_url = 'http://arkivet.operan.se/repertoar/list_productions.php?languageFlag=SE&titel=&programtitel=&upphov=&medverkande=&roll=&konstform=Opera&spelplats=&annanspelplats=&datum-ar=1770&datum-man=&datum-dag=&slutdatum-ar=2018&slutdatum-man=&slutdatum-dag=&sortering=1&currentPage='"
   ]
  },
  {
   "cell_type": "code",
   "execution_count": 58,
   "metadata": {
    "scrolled": true
   },
   "outputs": [
    {
     "name": "stdout",
     "output_type": "stream",
     "text": [
      "30\n",
      "31\n",
      "32\n",
      "33\n",
      "34\n",
      "35\n",
      "36\n",
      "37\n",
      "38\n",
      "39\n",
      "40\n",
      "41\n",
      "42\n",
      "43\n",
      "44\n",
      "45\n",
      "46\n",
      "47\n",
      "48\n",
      "49\n",
      "50\n",
      "51\n",
      "52\n",
      "53\n",
      "54\n",
      "55\n",
      "56\n",
      "57\n",
      "58\n",
      "59\n",
      "60\n",
      "61\n",
      "62\n",
      "63\n",
      "64\n",
      "65\n",
      "66\n",
      "67\n",
      "68\n",
      "69\n",
      "70\n",
      "71\n",
      "72\n",
      "73\n",
      "74\n",
      "75\n",
      "76\n",
      "77\n",
      "78\n",
      "79\n",
      "80\n",
      "81\n",
      "82\n",
      "83\n",
      "84\n",
      "85\n",
      "86\n",
      "87\n",
      "88\n",
      "89\n",
      "90\n",
      "91\n",
      "92\n",
      "93\n",
      "94\n",
      "95\n",
      "96\n",
      "97\n",
      "98\n",
      "99\n",
      "100\n",
      "101\n",
      "102\n",
      "103\n",
      "104\n",
      "105\n",
      "106\n",
      "107\n",
      "108\n",
      "109\n",
      "110\n",
      "111\n",
      "112\n",
      "113\n",
      "114\n"
     ]
    }
   ],
   "source": [
    "listings = []\n",
    "\n",
    "url = base_url + '1'\n",
    "r  = requests.get(url, headers=headers).json()\n",
    "repertoire_pages = r['resultInfo']['noOfPages']\n",
    "\n",
    "#Get all operas\n",
    "for repertoire_page in range(30, repertoire_pages + 1):\n",
    "    print(repertoire_page)\n",
    "    \n",
    "    url = base_url + str(repertoire_page)\n",
    "#     print(url)\n",
    "    r  = requests.get(url, headers=headers).json()\n",
    "    for production in r['productions']:\n",
    "\n",
    "        if production['originalTitel']=='':\n",
    "            work = production['name']\n",
    "        else:\n",
    "            work = production['originalTitel']\n",
    "            \n",
    "#         print(work)\n",
    "        work_id = production['prodId']\n",
    "    \n",
    "        #Get details of the opera\n",
    "        work_details_url = 'http://arkivet.operan.se/repertoar/list_authors.php?prodId=' + str(work_id)\n",
    "        d = requests.get(work_details_url, headers=headers).json()\n",
    "        composer = ''\n",
    "        try:\n",
    "            for author in d['authors']:\n",
    "                if author['type']=='Musik':\n",
    "                    composer = author['info']\n",
    "        except:\n",
    "            None\n",
    "        \n",
    "        #Get performances\n",
    "        base_work_url = 'http://arkivet.operan.se/repertoar/list_shows.php?languageFlag=SE&titel=&programtitel=&upphov=&medverkande=&roll=&konstform=Opera&spelplats=&annanspelplats=&datum-ar=1770&datum-man=&datum-dag=&slutdatum-ar=2018&slutdatum-man=&slutdatum-dag=&sortering=1'\n",
    "        base_work_url = base_work_url + '&prodId=' + str(work_id) + '&currentPage=' + str(repertoire_page) + '&currentShowsPage='\n",
    "        work_url = base_work_url + '1'\n",
    "#         print(work_url)\n",
    "        p = requests.get(work_url, headers=headers).json()\n",
    "        work_pages = p['resultInfo']['noOfPages']\n",
    "        for work_page in range(1, work_pages+1):\n",
    "#             print(work_pages)\n",
    "            shows_url = base_work_url + str(work_page)\n",
    "            s = requests.get(shows_url, headers=headers).json()\n",
    "#             print(shows_url)\n",
    "            shows = s['shows']\n",
    "            for show in shows:\n",
    "                date = show['date']\n",
    "                date = datetime.strptime(date, '%Y-%m-%d').date()                \n",
    "                listing = []\n",
    "                listing.append(work)                        \n",
    "                listing.append(composer)\n",
    "                listing.append(date)\n",
    "#                 print(listing)\n",
    "                listings.append(listing)\n",
    "    \n",
    "#Saving results into dataframe and folder\n",
    "import pandas as pd\n",
    "headers = ['work', 'composer', 'date']\n",
    "df = pd.DataFrame(listings, columns=headers)\n",
    "df.to_csv('../../data/processed/listings/sweden_opera_house.csv')                                    "
   ]
  }
 ],
 "metadata": {
  "kernelspec": {
   "display_name": "Python 3",
   "language": "python",
   "name": "python3"
  },
  "language_info": {
   "codemirror_mode": {
    "name": "ipython",
    "version": 3
   },
   "file_extension": ".py",
   "mimetype": "text/x-python",
   "name": "python",
   "nbconvert_exporter": "python",
   "pygments_lexer": "ipython3",
   "version": "3.6.2"
  }
 },
 "nbformat": 4,
 "nbformat_minor": 2
}
