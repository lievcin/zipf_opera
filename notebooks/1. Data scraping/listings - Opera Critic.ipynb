{
 "cells": [
  {
   "cell_type": "code",
   "execution_count": 10,
   "metadata": {},
   "outputs": [
    {
     "data": {
      "text/html": [
       "<style>.container { width:100% !important; }</style>"
      ],
      "text/plain": [
       "<IPython.core.display.HTML object>"
      ]
     },
     "metadata": {},
     "output_type": "display_data"
    }
   ],
   "source": [
    "from IPython.core.display import display, HTML\n",
    "display(HTML(\"<style>.container { width:100% !important; }</style>\"))"
   ]
  },
  {
   "cell_type": "code",
   "execution_count": 209,
   "metadata": {},
   "outputs": [],
   "source": [
    "from bs4 import BeautifulSoup\n",
    "import requests\n",
    "from datetime import datetime\n",
    "    \n",
    "countries = [\"Argentina\", \"Australia\",\"Austria\",\"Belgium\",\"Bulgaria\", \"Canada\",\"Chile\",\"China\",\n",
    "             \"Costa Rica\",\"Croatia\",\"Czech Republic\", \"Denmark\",\"Estonia\",\"Finland\",\"France\",\n",
    "             \"Germany\", \"Greece\",\"Hungary\",\"India\",\"Ireland\",\"Israel\",\"Italy\", \"Japan\",\"Latvia\",\n",
    "             \"Lithuania\",\"Luxembourg\",\"Malta\",\"Monaco\", \"Netherlands\",\"New Zealand\",\"Norway\",\n",
    "             \"Oman\",\"Poland\",\"Portugal\",\"Romania\", \"Russia\",\"Singapore\",\"Slovakia\",\"South Africa\",\n",
    "             \"South Korea\", \"Spain\",\"Sweden\",\"Switzerland\",\"UAE\",\"United Kingdom\",\"USA\"]\n",
    "\n",
    "base_url = 'https://theoperacritic.com/searchsuite/performance.php?opera=&city=&sday=01&smth=01&syr=2000&eday=00&emth=00&eyr=0000&searchtype=3&x=36&y=13&country='\n",
    "        \n",
    "cookies = dict(\n",
    "    PHPSESSID='3a6b3abf68cfc4bc98dbcf1072989270',\n",
    "    __utma='65021163.1658740872.1530787545.1530831768.1530890054.5',\n",
    "    __utmb='65021163.16.10.1530890054',\n",
    "    __utmc='65021163',\n",
    "    __utmt='1',\n",
    "    __utmz='65021163.1530787545.1.1.utmcsr=google|utmccn=(organic)|utmcmd=organic|utmctr=(not%20provided)',\n",
    "    pword='0892332064fff5e2',\n",
    "    valid_user='liev.garcia%40gmail.com'\n",
    ")    \n",
    "\n",
    "events = []\n",
    "count = 0"
   ]
  },
  {
   "cell_type": "code",
   "execution_count": null,
   "metadata": {
    "scrolled": false
   },
   "outputs": [],
   "source": [
    "for country in countries:\n",
    "\n",
    "    print('Starting: ' + country)\n",
    "    url = base_url + country\n",
    "    print(url)\n",
    "    count = len(events)\n",
    "    \n",
    "    while url:\n",
    "        r  = requests.get(url, cookies=cookies)\n",
    "        soup = BeautifulSoup(r.text, \"html5lib\")\n",
    "        listings = soup.find('div', attrs={\"class\": \"resultsbox\"}).find('tbody').find('table').find('tbody').find_all('tr')    \n",
    "        url = None\n",
    "\n",
    "        for listing in listings:\n",
    "\n",
    "            if listing.find('a').get('class')!=['showajaxpopup']:\n",
    "                if 'offset' not in listing.find_all('a')[-1].get('href'):\n",
    "\n",
    "                    items     = listing.find_all('td')    \n",
    "                    city      = items[0].get_text().strip()\n",
    "                    composer  = items[1].find('h4').get_text().strip().split(':')[0].strip()            \n",
    "                    work      = items[1].find('h4').get_text().strip().split(':')[-1].strip()\n",
    "                    venue     = items[1].find('b').get_text().strip()\n",
    "                    deets_url = listing.find('a', attrs={\"class\": \"showajaxpopup\"}).get('href')[2:]\n",
    "                    deets_url = 'https://theoperacritic.com' + deets_url\n",
    "\n",
    "                    r     = requests.get(deets_url)\n",
    "                    soup  = BeautifulSoup(r.text, \"html5lib\") \n",
    "                    dates = soup.find('strong')\n",
    "                    if dates:\n",
    "                        dates = dates.parent.parent.next_sibling.next_sibling.get_text().strip()\n",
    "\n",
    "                    event = []\n",
    "                    event.append(country)    \n",
    "                    event.append(city)\n",
    "                    event.append(composer)            \n",
    "                    event.append(work)\n",
    "                    event.append(venue)                            \n",
    "                    event.append(dates)                \n",
    "                    event.append(deets_url)                \n",
    "#                     print(event)\n",
    "                    events.append(event)   \n",
    "                else:\n",
    "                    if listing.find_all('a')[-1].get_text().strip()=='next >>':\n",
    "                        url = base_url + listing.find_all('a')[-1].get('href')\n",
    "\n",
    "    print(len(events)-count)                        \n",
    "    print('Finished: ' + country)"
   ]
  },
  {
   "cell_type": "code",
   "execution_count": null,
   "metadata": {},
   "outputs": [],
   "source": [
    "import pandas as pd                     \n",
    "headers = ['country', 'city', 'composer', 'work', 'venue', 'dates', 'dates_url']\n",
    "df = pd.DataFrame(events, columns=headers)\n",
    "df.to_csv('../../data/raw/operacritic.csv')"
   ]
  },
  {
   "cell_type": "code",
   "execution_count": 14,
   "metadata": {},
   "outputs": [],
   "source": [
    "import re\n",
    "\n",
    "years = []\n",
    "for i in range(2000, 2020):\n",
    "    years.append(str(i))\n",
    "\n",
    "months = ['January', 'February', 'March', 'April', 'May', 'June', 'July', 'August', 'September', 'October', 'November', 'December']\n",
    "days = ['01', '02', '03', '04', '05', '06', '07', '08', '09', '10', \n",
    "        '11', '12', '13', '14', '15', '16', '17', '18', '19', '20', \n",
    "        '21', '22', '23', '24', '25', '26', '27', '28', '29', '30', \n",
    "        '31', '1', '2', '3', '4', '5', '6', '7', '8', '9']    \n",
    "dow = ['Monday', 'Tuesday', 'Wednesday', 'Thursday', 'Friday', 'Saturday', 'Sunday']\n",
    "\n",
    "def get_dates(date_str):\n",
    "    \n",
    "    dates_list = []        \n",
    "    dates = re.split('; |\\(|\\)|, | |\\*|\\n',date_str)\n",
    "    dates = dates[::-1]\n",
    "    year = ''\n",
    "    month = ''\n",
    "    day = ''\n",
    "    \n",
    "    if any(ext in dates for ext in dow):\n",
    "        for idx in range(len(dates)):\n",
    "            if dates[idx] in days:\n",
    "                day = dates[idx]\n",
    "            if dates[idx] in months:\n",
    "                month = dates[idx]\n",
    "            if dates[idx] in years:\n",
    "                year = dates[idx]\n",
    "                new_date = year + '-' + month + '-' + day\n",
    "                dates_list.append(new_date)\n",
    "    else:       \n",
    "        for idx in range(len(dates)):\n",
    "            if dates[idx] in years:\n",
    "                year = dates[idx]\n",
    "            if dates[idx] in months:\n",
    "                month = dates[idx]\n",
    "            if dates[idx] in days:\n",
    "                new_date = year + '-' + month + '-' + str(dates[idx])\n",
    "                dates_list.append(new_date)\n",
    "    return dates_list[::-1]"
   ]
  },
  {
   "cell_type": "code",
   "execution_count": 18,
   "metadata": {},
   "outputs": [],
   "source": [
    "import pandas as pd                     \n",
    "df = pd.read_csv('../../data/raw/operacritic.csv', index_col=0)\n",
    "# df.head()"
   ]
  },
  {
   "cell_type": "code",
   "execution_count": 19,
   "metadata": {},
   "outputs": [],
   "source": [
    "#Edit a few rows for which the dates are not complete.\n",
    "df.loc[df['dates_url']=='https://theoperacritic.com/scripts/ScheduleDetails.php?schedule=auskingi0614', 'dates'] = \\\n",
    "    '10, 13, 14(m), 14, 15(m), 17(m), 18(m), 18, 19, 20, 21(m), 21, 22(m), 24(m), 25(m), 25, 26, 27, 28(m), 28, 29(m)' + \\\n",
    "    ' June, 1(m), 2(m), 2, 3, 4, 5(m), 5, 6(m), 8(m), 9(m), 9, 10, 11, 12(m), 12, 13(m), 15(m), 16, 17, 18, 19(m), 19' + \\\n",
    "    ', 20(m), 22(m), 23(m), 23, 24, 25, 26(m), 26, 27(m), 29(m), 30, 31 July, 1, 2(m), 2, 3(m), 5(m), 6(m), 6, 7, 8, 9(m)' + \\\n",
    "    ', 9, 10(m)' + ', 11, 12, 13, 14, 15, 16, 17 August 2014'    \n",
    "df.loc[df['dates_url']=='https://theoperacritic.com/scripts/ScheduleDetails.php?schedule=auskingi0914', 'dates'] = \\\n",
    "    '7(m), 7, 9, 10(m), 10, 12, 13(m), 13, 14(m), 16(m), 17(m), 17, 18, 19, 20(m), 20, 21(m), 23(m), 24(m), 24, 25,' + \\\n",
    "    '26, 27(m), 27, 28(m), 30(m) September, 1(m), 1, 2, 3, 4(m), 4, 5(m), 7(m), 8, 9, 10, 11(m), 11, 12(m), 14(m), ' + \\\n",
    "    '15(m), 15, 16, 17, 18(m), 18, 19(m), 21(m), 22(m), 22, 23, 24, 25(m), 25, 26(m), 28(m), 29(m), 29, 30, 31 ' + \\\n",
    "    'October, 1(m), 1 Novemb' + 'er 2014'\n",
    "df.loc[df['dates_url']=='https://theoperacritic.com/scripts/ScheduleDetails.php?schedule=ausanythi0915', 'dates'] = \\\n",
    "    '8, 9(m), 9, 10, 11, 12(m), 12, 13(m), 15(m), 16(m), 16, 17, 18, 19(m), 19, 20(m), 22(m), 23(m), 23, 24, 25, 26(m) ' + \\\n",
    "    ', 26, 27(m), 29(m), 30(m), 30 September, 1, 2, 3(m), 4(m), 6(m), 7(m), 7, 8, 9, 10(m), 10, 11(m), 13(m), 14(m), ' + \\\n",
    "    '14, 15, 16, 17(m), 17, 18(m), 20(m), 21(m), 21, 22, 23, 24(m), 24, 25(m), 27(m), 28(m), 28, 29(m), 29, 30,  ' + \\\n",
    "    '31(m), 31 October' + ' 2015'\n",
    "df.loc[df['dates_url']=='https://theoperacritic.com/scripts/ScheduleDetails.php?schedule=ausmyfair0816', 'dates'] = \\\n",
    "    '30, 31 August, 1, 2, 3(m), 3, 4(m), 6, 7(m), 7, 8, 9, 10(m), 10, 11(m), 13(m), 14(m), 14, 15, 16, 17(m), 17, ' + \\\n",
    "    '18(m), 20(m), 21(m), 21, 22, 23, 24(m), 24, 25(m), 27, 28(m), 28, 29, 30 September, 1(m), 1, 2(m), 4(m), 5(m), ' + \\\n",
    "    '5, 6, 7, 8(m), 8, 9(m), 11(m), 12(m), 12, 13, 14, 15(m), 15, 16(m), 18(m), 19(m), 19, 20, 21, 22(m), 22, 23, ' + \\\n",
    "    '25(m), 26(m), 26, 27,' + '28,29,30,31 October 1,2,3,4,5 November 2016'\n",
    "df.loc[df['dates_url']=='https://theoperacritic.com/scripts/ScheduleDetails.php?schedule=ausmyfair0517', 'dates'] = \\\n",
    "    '11, 12, 13(m), 13, 14(m), 16, 17(m), 17, 18, 19, 20(m), 20, 21(m), 23, 24(m), 24, 25, 27(m), 27, 28(m), 30(m), ' + \\\n",
    "    '31(m), 31 May, 1, 2, 3(m), 3, 4(m), 6(m), 7(m), 7, 8, 9, 10(m), 10, 11(m), 13(m), 14(m), 14, 15, 16, 17(m), 17,' + \\\n",
    "    '18(m), 20(m), 21(m), 21, 22, 23, 24(m), 24, 25(m), 27(m), 28(m), 28, 29, 30 June, 1(m), 1, 2(m), 4(m), 5(m), 5, ' + \\\n",
    "    '6, 7, 8(m), 8,' + '9, 10(m), 10, 11(m), 13(m), 14(m), 14, 15, 16, 17(m), 17, 18(m), 20(m), 21(m), 21, 22, 23, 24(m), 24' + \\\n",
    "    '25(m), 27(m), 28(m), 28, 29, 30 July 2017'    \n",
    "df.loc[df['dates_url']=='https://theoperacritic.com/scripts/ScheduleDetails.php?schedule=erlring0714', 'dates'] = \\\n",
    "    '18, 19, 25, 26, 30 July, 1, 2(m), 2, 3(m) August 2014'\n",
    "df.loc[df['dates_url']=='https://theoperacritic.com/scripts/ScheduleDetails.php?schedule=tdcwside1012', 'dates'] = \\\n",
    "    '17(m), 26, 27, 28(m), 28, 30, 31 October, 1, 2, 3(m), 3, 4(m), 4, 6, 7, 8, 9, 10(m), 10, 11(m), 11, 13, 14, 15,' + \\\n",
    "    '16, 17(m), 17, 18(m), 18, 19, 20, 21, 22, 23, 24(m), 24, 25(m), 26, 28, 29, 30 November, 1(m), 1, 2(m), 2, 3, 4,' + \\\n",
    "    '5, 6, 8(m), 9(m), 9, 11, 12, 13, 14, 15(m), 15, 16(m), 16, 18, 19, 20, 21, 22(m), 22, 23(m), 23, 24, 26, 27, 28,' + \\\n",
    "    '29(m), 29, 3' + '0 December 2012, 1 January 2013'\n",
    "df.loc[df['dates_url']=='https://theoperacritic.com/scripts/ScheduleDetails.php?schedule=lyobrundi0316', 'dates'] = \\\n",
    "    '29, 30, 31 March, 1, 2(m), 2, 3 April 2016'\n",
    "df.loc[df['dates_url']=='https://theoperacritic.com/scripts/ScheduleDetails.php?schedule=kartroyen0113', 'dates'] = \\\n",
    "    '13, 17, 19 January, 2 February 2013'\n",
    "df.loc[df['dates_url']=='https://theoperacritic.com/scripts/ScheduleDetails.php?schedule=bhvsingin0913', 'dates'] = \\\n",
    "    '17, 21, 29 September, 6(m), 9, 13(m), 20 October, 21, 23(m) November, 21, 31 December 2013, 19(m) January, 7' + \\\n",
    "    ', 22 February, 15 March, 5 April, 4, 12 May, 1(m), 9, 28 June 2014'\n",
    "df.loc[df['dates_url']=='https://theoperacritic.com/scripts/ScheduleDetails.php?schedule=weibarbei1217', 'dates'] = \\\n",
    "    '12(m), 19(m), 26(m) December 2017, 9(m) January, 28(m) February 2018'\n",
    "df.loc[df['dates_url']=='https://theoperacritic.com/scripts/ScheduleDetails.php?schedule=hlkballo1215', 'dates'] = \\\n",
    "    '11, 12, 13, 15 December 2015, 17 February 2016'\n",
    "df.loc[df['dates_url']=='https://theoperacritic.com/scripts/ScheduleDetails.php?schedule=gbghair0916', 'dates'] = \\\n",
    "    '10, 14, 15, 17, 18(m), 18, 21, 23, 25, 27, 29, 30 September, 1(m), 1, 5, 7, 13, 14, 15(m), 15, 19, 22, 23(m)' + \\\n",
    "    ', 25 October, 1, 2, 6(m), 8, 10, 11, 12(m), 12, 15, 18, 19(m), 19, 22, 24, 26 November, 1, 28, 30 December 2016' + \\\n",
    "    ', 13, 14(m), 14, 20, 21(m), 21, 24, 26, 27, 28(m), 28, 31 January, 1, 17, 22, 24, 25(m), 25 February, 1, ' + \\\n",
    "    '2, 7, 12(m), 14, 17, 21, 2' + '4, 26, 27, 28 March 2017'"
   ]
  },
  {
   "cell_type": "code",
   "execution_count": 22,
   "metadata": {},
   "outputs": [],
   "source": [
    "from datetime import datetime\n",
    "events=[]\n",
    "issues=[]\n",
    "\n",
    "for idx,row in df.iterrows():\n",
    "    dates = get_dates(row['dates'])\n",
    "    for date in dates:\n",
    "        event=[]\n",
    "        event.append(row['country'])\n",
    "        event.append(row['city'])\n",
    "        event.append(row['composer'])\n",
    "        event.append(row['work'])\n",
    "        event.append(row['venue'])\n",
    "        event.append(datetime.strptime(date, '%Y-%B-%d').date())\n",
    "        event.append(row['dates_url'])\n",
    "        events.append(event)"
   ]
  },
  {
   "cell_type": "code",
   "execution_count": 24,
   "metadata": {
    "scrolled": false
   },
   "outputs": [],
   "source": [
    "import pandas as pd                     \n",
    "headers = ['country', 'city', 'composer', 'work', 'venue', 'date', 'dates_url']\n",
    "df = pd.DataFrame(events, columns=headers)\n",
    "df.to_csv('../../data/processed/listings/operacritic.csv')"
   ]
  },
  {
   "cell_type": "code",
   "execution_count": 23,
   "metadata": {},
   "outputs": [
    {
     "data": {
      "text/plain": [
       "103565"
      ]
     },
     "execution_count": 23,
     "metadata": {},
     "output_type": "execute_result"
    }
   ],
   "source": [
    "len(events)"
   ]
  }
 ],
 "metadata": {
  "kernelspec": {
   "display_name": "Python 3",
   "language": "python",
   "name": "python3"
  },
  "language_info": {
   "codemirror_mode": {
    "name": "ipython",
    "version": 3
   },
   "file_extension": ".py",
   "mimetype": "text/x-python",
   "name": "python",
   "nbconvert_exporter": "python",
   "pygments_lexer": "ipython3",
   "version": "3.6.2"
  }
 },
 "nbformat": 4,
 "nbformat_minor": 2
}
