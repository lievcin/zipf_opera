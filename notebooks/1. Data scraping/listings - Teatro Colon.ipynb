{
 "cells": [
  {
   "cell_type": "code",
   "execution_count": 1,
   "metadata": {
    "scrolled": true
   },
   "outputs": [],
   "source": [
    "from bs4 import BeautifulSoup\n",
    "import requests\n",
    "from datetime import datetime\n",
    "\n",
    "headers = { 'User-Agent': 'Mozilla/5.0 (Windows NT 6.0; WOW64; rv:24.0) Gecko/20100101 Firefox/24.0' }\n",
    "\n"
   ]
  },
  {
   "cell_type": "code",
   "execution_count": 18,
   "metadata": {},
   "outputs": [
    {
     "name": "stdout",
     "output_type": "stream",
     "text": [
      "[<a href=\"../../index.html\">Inicio</a>, <a href=\"../../operascolon.html\">Sobre el sitio</a>, <a href=\"../../elteatrocolon.html\">El teatro</a>, <a href=\"../../aaaa.html\">Buscar en la base de datos</a>, <a href=\"../../galeriadeimagenesteatrocolon.php\">Recordando</a>, <a href=\"../../galeriadeimagenesteatrocolon.php\">Cantantes y programas</a>, <a href=\"../../sopranos.html\">Sopranos</a>, <a href=\"../../links.html\">Enlaces a BD</a>, <a href=\"../../contactenos.php\">Contáctenos</a>, <a href=\"/cgi-bin/wwwisis/[in=aaa.in]?base=o=1908$\">Ver óperas representadas durante 1908</a>, <a href=\"/cgi-bin/wwwisis/[in=aaa.in]?base=o=1909$\">Ver óperas representadas durante 1909</a>, <a href=\"/cgi-bin/wwwisis/[in=aaa.in]?base=o=1910$\">Ver óperas representadas durante 1910</a>, <a href=\"/cgi-bin/wwwisis/[in=aaa.in]?base=o=1911$\">Ver óperas representadas durante 1911</a>, <a href=\"/cgi-bin/wwwisis/[in=aaa.in]?base=o=1912$\">Ver óperas representadas durante 1912</a>, <a href=\"/cgi-bin/wwwisis/[in=aaa.in]?base=o=1913$\">Ver óperas representadas durante 1913</a>, <a href=\"/cgi-bin/wwwisis/[in=aaa.in]?base=o=1914$\">Ver óperas representadas durante 1914</a>, <a href=\"/cgi-bin/wwwisis/[in=aaa.in]?base=o=1915$\">Ver óperas representadas durante 1915</a>, <a href=\"/cgi-bin/wwwisis/[in=aaa.in]?base=o=1916$\">Ver óperas representadas durante 1916</a>, <a href=\"/cgi-bin/wwwisis/[in=aaa.in]?base=o=1917$\">Ver óperas representadas durante 1917</a>]\n",
      "<html><head>\n",
      "<title>Resultados - Buscador Operas Colón </title>\n",
      "<!-- va todo OK -->\n",
      "<script type=\"text/javascript\">\n",
      "function click(e) \n",
      "{\n",
      "// Explorer\n",
      "if (IE)\n",
      "  if (event.button == 2){\n",
      "        accion() ;\n",
      "        return false ;\n",
      "}\n",
      "// Netscape\n",
      "if (NS)\n",
      "  if (e.which == 3) {\n",
      "        accion() ;\n",
      "        return false ;\n",
      "}\n",
      "}function accion() {\n",
      "if (IE) alert('Copyright (C) 2003, Operas-Colon. Todos los derechos reservados');\n",
      "return;\n",
      "}\n",
      "var NS = (document.layers) ;\n",
      "var IE = (document.all) ;\n",
      "if (NS) document.captureEvents(Event.MOUSEDOWN) ;\n",
      "document.onmousedown = click ;\n",
      "</script>\n",
      "<style media=\"all\" type=\"text/css\">@import \"../../operas.css\";</style>\n",
      "<link href=\"http://fonts.googleapis.com/css?family=Josefin+Sans+Std+Light:regular\" rel=\"stylesheet\" type=\"text/css\"/></head>\n",
      "<body>\n",
      "<div id=\"farouter\">\n",
      "<div id=\"outer\">\n",
      "<div id=\"wrap\">\n",
      "<div id=\"headermain\">\n",
      "<h1 id=\"header\">BIENVENIDOS A LAS OPERAS DEL TEATRO COLON</h1>\n",
      "<h2 id=\"tagline\">Base de datos de todas las óperas representadas en el Teatro Colón de Buenos Aires desde 1908 <br/>(temporada oficial)</h2>\n",
      "</div>\n",
      "<div id=\"main\"><div id=\"hmenu\">\n",
      "<ul id=\"navmenu-h\">\n",
      "<li><a href=\"../../index.html\">Inicio</a></li>\n",
      "<li><a href=\"../../operascolon.html\">Sobre el sitio</a></li>\n",
      "<li><a href=\"../../elteatrocolon.html\">El teatro</a></li>\n",
      "<li><a href=\"../../aaaa.html\">Buscar en la base de datos</a></li>\n",
      "<li><a href=\"../../galeriadeimagenesteatrocolon.php\">Recordando</a>\n",
      "<ul>\n",
      "<li><a href=\"../../galeriadeimagenesteatrocolon.php\">Cantantes y programas</a></li>\n",
      "<li><a href=\"../../sopranos.html\">Sopranos</a></li>\n",
      "</ul>\n",
      "</li><li><a href=\"../../links.html\">Enlaces a BD</a></li>\n",
      "<li><a href=\"../../contactenos.php\">Contáctenos</a></li>\n",
      "</ul>\n",
      "</div>\n",
      "<div id=\"content\"><div \"=\"\" id=\"contenido\">\n",
      "<h6>Debe ingresar alguna palabra a buscar</h6><br/><hr color=\"red\"/>\n",
      "<br/><form action=\"../../aaaa.html\">\n",
      "<input size=\"13\" type=\"submit\" value=\"   Nueva Búsqueda   \"/>\n",
      "</form></div></div></div><div id=\"clearer\"> </div><div id=\"footer\">\t<p>Esta base de datos de las Óperas representadas en el Teatro Colón de Buenos Aires es de exclusiva responsabilidad de Leonor Plate.</p>\t<p>Copyright © 2010 - Derechos reservados</p></div></div></div></div>\n",
      "\n",
      "\n",
      "</body></html>\n"
     ]
    }
   ],
   "source": [
    "base_url = 'http://www.operas-colon.com.ar/cgi-bin/wwwisis/[in=aaa.in]?base=base=toda'\n",
    "\n",
    "payload = { 'base': 'toda'}\n",
    "r  = requests.get(base_url, headers=headers, data=payload)\n",
    "soup = BeautifulSoup(r.text, \"html5lib\")\n",
    "results = soup.find_all('a')\n",
    "print(results)\n",
    "\n",
    "base_url = 'http://www.operas-colon.com.ar/cgi-bin/wwwisis/[in=aaa2.in]'\n",
    "payload = {\n",
    "    'base': 'aaa',\n",
    "    'bu': 'o=1908$', #'base=toda',\n",
    "    'h1': 11,\n",
    "    'formato': 'aaa.pft',\n",
    "    'Next': '  Ver Siguientes  '\n",
    "}\n",
    "\n",
    "payload = { 'base': 'toda'}\n",
    "r  = requests.post(base_url, headers=headers, data=payload)\n",
    "soup = BeautifulSoup(r.text, \"html5lib\")\n",
    "results = soup.find_all('a')\n",
    "print(soup)\n"
   ]
  },
  {
   "cell_type": "code",
   "execution_count": null,
   "metadata": {},
   "outputs": [],
   "source": []
  },
  {
   "cell_type": "code",
   "execution_count": 51,
   "metadata": {
    "scrolled": true
   },
   "outputs": [
    {
     "name": "stdout",
     "output_type": "stream",
     "text": [
      "0\n",
      "10\n",
      "20\n",
      "30\n",
      "40\n",
      "50\n",
      "60\n",
      "70\n",
      "80\n",
      "90\n"
     ]
    }
   ],
   "source": [
    "listings = []\n",
    "\n",
    "for page in range(97):\n",
    "    \n",
    "    if page%10==0:\n",
    "        print(page)\n",
    "        \n",
    "    url = base_url + str(20*page + 1)\n",
    "    r  = requests.get(url, headers=headers)\n",
    "    soup = BeautifulSoup(r.text, \"html5lib\")\n",
    "    results = soup.find_all('table')\n",
    "    results = results[3].find_all('tr')\n",
    "    \n",
    "    for result in results[1:-1]:\n",
    "        cells = result.find_all('td')\n",
    "        season = cells[0].get_text().strip()\n",
    "        work = cells[1].get_text().split('{')[0].strip()\n",
    "        composer = cells[2].get_text().strip()\n",
    "\n",
    "        dates_url = 'http://archive.sfopera.com/' + cells[9].find('a').get('href')\n",
    "        \n",
    "        r  = requests.get(dates_url, headers=headers)\n",
    "        soup = BeautifulSoup(r.text, \"html5lib\")        \n",
    "        dates = soup.find_all('table')\n",
    "        dates = dates[3].find_all('tr')\n",
    "        \n",
    "        for date in dates[1:-1]:\n",
    "            \n",
    "            listing  = []\n",
    "            \n",
    "            cells = date.find_all('td')\n",
    "            perf = cells[2].get_text().strip()\n",
    "            perf = datetime.strptime(perf, '%A, %b  %d %Y  %I:%M%p').date()            \n",
    "            \n",
    "            listing.append(season)                        \n",
    "            listing.append(work)\n",
    "            listing.append(perf)\n",
    "            listing.append(composer)\n",
    "            listings.append(listing)\n",
    "            \n",
    "#Saving results into dataframe and folder            \n",
    "# import pandas as pd                     \n",
    "# headers = ['season', 'work', 'date', 'composer']\n",
    "# df = pd.DataFrame(listings, columns=headers)\n",
    "# df.to_csv('../../data/processed/listings/san_francisco_opera.csv')            "
   ]
  },
  {
   "cell_type": "code",
   "execution_count": 53,
   "metadata": {},
   "outputs": [],
   "source": [
    "import pandas as pd                     \n",
    "headers = ['season', 'work', 'date', 'composer']\n",
    "df = pd.DataFrame(listings, columns=headers)\n",
    "df.to_csv('../../data/processed/listings/san_francisco_opera.csv')            "
   ]
  },
  {
   "cell_type": "code",
   "execution_count": 54,
   "metadata": {},
   "outputs": [
    {
     "data": {
      "text/plain": [
       "5983"
      ]
     },
     "execution_count": 54,
     "metadata": {},
     "output_type": "execute_result"
    }
   ],
   "source": [
    "len(listings)"
   ]
  },
  {
   "cell_type": "code",
   "execution_count": null,
   "metadata": {},
   "outputs": [],
   "source": []
  }
 ],
 "metadata": {
  "kernelspec": {
   "display_name": "Python 3",
   "language": "python",
   "name": "python3"
  },
  "language_info": {
   "codemirror_mode": {
    "name": "ipython",
    "version": 3
   },
   "file_extension": ".py",
   "mimetype": "text/x-python",
   "name": "python",
   "nbconvert_exporter": "python",
   "pygments_lexer": "ipython3",
   "version": "3.6.2"
  }
 },
 "nbformat": 4,
 "nbformat_minor": 2
}
