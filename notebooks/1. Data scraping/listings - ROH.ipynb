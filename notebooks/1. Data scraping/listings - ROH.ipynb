{
 "cells": [
  {
   "cell_type": "code",
   "execution_count": 46,
   "metadata": {
    "scrolled": true
   },
   "outputs": [],
   "source": [
    "from bs4 import BeautifulSoup\n",
    "import requests\n",
    "from datetime import datetime\n",
    "\n",
    "headers = { 'User-Agent': 'Mozilla/5.0 (Windows NT 6.0; WOW64; rv:24.0) Gecko/20100101 Firefox/24.0' }\n",
    "\n",
    "base_url = 'http://www.rohcollections.org.uk/SearchResults.aspx?searchtype=performance&yearfrom=1732&genre=Opera&page='"
   ]
  },
  {
   "cell_type": "code",
   "execution_count": 47,
   "metadata": {
    "scrolled": true
   },
   "outputs": [
    {
     "name": "stdout",
     "output_type": "stream",
     "text": [
      "0\n",
      "50\n",
      "100\n",
      "150\n",
      "200\n"
     ]
    }
   ],
   "source": [
    "listings = []\n",
    "\n",
    "for page in range(233):\n",
    "    \n",
    "    if page%50==0:\n",
    "        print(page)\n",
    "        \n",
    "    url = base_url + '&i=' + str(page)\n",
    "    r  = requests.get(url, headers=headers)\n",
    "    soup = BeautifulSoup(r.text, \"html5lib\")\n",
    "    results = soup.find(attrs={'class': 'results'}).find_all('tr')\n",
    "    \n",
    "    show = True\n",
    "    for result in results[1:]:\n",
    "        listing  = []\n",
    "        items    = result.find_all('td')\n",
    "        work     = items[0].get_text()\n",
    "        date     = datetime.strptime(items[1].get_text(), '%d %B %Y').date()             \n",
    "        \n",
    "        #go to the listing and then to the root work in order to get composer\n",
    "        work_url = 'http://www.rohcollections.org.uk/' + items[1].find('a').get('href')        \n",
    "        work_r    = requests.get(work_url, headers=headers)\n",
    "        work_soup = BeautifulSoup(work_r.text, \"html5lib\")\n",
    "        work_url  = work_soup.find(attrs={'id': 'ucHeader_uiSubSubDirectoryLink'}).get('href')\n",
    "        \n",
    "        #page of the work itself\n",
    "        work_url = 'http://www.rohcollections.org.uk' + work_url\n",
    "        work_r    = requests.get(work_url, headers=headers)\n",
    "        work_soup = BeautifulSoup(work_r.text, \"html5lib\")\n",
    "        details = work_soup.find(attrs={'class': 'result'})\n",
    "        table = list(zip(details.find_all('th'),details.find_all('td')))\n",
    "        \n",
    "        composer, librettist, language, based_on = '','','',''\n",
    "        for row in table:\n",
    "            if row[0].get_text() == 'Composer:':\n",
    "                composer = row[1].get_text()\n",
    "            if row[0].get_text() == 'Librettist:':\n",
    "                librettist = row[1].get_text()            \n",
    "            if row[0].get_text() == 'Language:':\n",
    "                language = row[1].get_text()  \n",
    "            if row[0].get_text() in ('Based on:', 'After:'):\n",
    "                based_on = row[1].get_text()                  \n",
    "                        \n",
    "        listing.append(work)\n",
    "        listing.append(date)\n",
    "        listing.append(composer)\n",
    "        listing.append(librettist)\n",
    "        listing.append(language)\n",
    "        listing.append(based_on)        \n",
    "        listings.append(listing)\n",
    "            \n",
    "# #Saving results into dataframe and folder            \n",
    "import pandas as pd                     \n",
    "headers = ['work', 'date', 'composer', 'librettist', 'based_on', 'language', ]\n",
    "df = pd.DataFrame(listings, columns=headers)\n",
    "df.to_csv('../../data/processed/roh_listings.csv')            "
   ]
  },
  {
   "cell_type": "code",
   "execution_count": 39,
   "metadata": {},
   "outputs": [],
   "source": [
    "url = 'http://www.rohcollections.org.uk/work.aspx?work=10402'\n",
    "r  = requests.get(url, headers=headers)\n",
    "soup = BeautifulSoup(r.text, \"html5lib\")\n",
    "results = soup.find_all(attrs={'class': 'results'})"
   ]
  },
  {
   "cell_type": "code",
   "execution_count": 44,
   "metadata": {},
   "outputs": [],
   "source": [
    "# results"
   ]
  },
  {
   "cell_type": "code",
   "execution_count": 16,
   "metadata": {},
   "outputs": [
    {
     "data": {
      "text/plain": [
       "[<td>The Fairy Queen</td>,\n",
       " <td><a href=\"performance.aspx?performance=3696&amp;row=0&amp;searchtype=performance&amp;page=0&amp;yearfrom=1732&amp;genre=Opera\">12 December 1946</a></td>,\n",
       " <td>Evening</td>,\n",
       " <td>Sadler's Wells Ballet, Covent Garden Opera Company</td>]"
      ]
     },
     "execution_count": 16,
     "metadata": {},
     "output_type": "execute_result"
    }
   ],
   "source": [
    "row.find_all('td')"
   ]
  },
  {
   "cell_type": "code",
   "execution_count": null,
   "metadata": {},
   "outputs": [],
   "source": []
  }
 ],
 "metadata": {
  "kernelspec": {
   "display_name": "Python 3",
   "language": "python",
   "name": "python3"
  },
  "language_info": {
   "codemirror_mode": {
    "name": "ipython",
    "version": 3
   },
   "file_extension": ".py",
   "mimetype": "text/x-python",
   "name": "python",
   "nbconvert_exporter": "python",
   "pygments_lexer": "ipython3",
   "version": "3.6.2"
  }
 },
 "nbformat": 4,
 "nbformat_minor": 2
}
