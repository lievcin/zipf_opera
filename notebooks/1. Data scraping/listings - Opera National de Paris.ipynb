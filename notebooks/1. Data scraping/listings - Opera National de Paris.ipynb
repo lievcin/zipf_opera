{
 "cells": [
  {
   "cell_type": "code",
   "execution_count": 56,
   "metadata": {},
   "outputs": [
    {
     "data": {
      "text/html": [
       "<style>.container { width:100% !important; }</style>"
      ],
      "text/plain": [
       "<IPython.core.display.HTML object>"
      ]
     },
     "metadata": {},
     "output_type": "display_data"
    }
   ],
   "source": [
    "from IPython.core.display import display, HTML\n",
    "display(HTML(\"<style>.container { width:100% !important; }</style>\"))"
   ]
  },
  {
   "cell_type": "code",
   "execution_count": 57,
   "metadata": {
    "scrolled": true
   },
   "outputs": [],
   "source": [
    "from bs4 import BeautifulSoup\n",
    "import requests\n",
    "from datetime import datetime\n",
    "import datetime \n",
    "\n",
    "headers = { 'User-Agent': 'Mozilla/5.0 (Windows NT 6.0; WOW64; rv:24.0) Gecko/20100101 Firefox/24.0' }\n",
    "\n",
    "base_url = 'https://www.memopera.fr/ListeSaisons.cfm'"
   ]
  },
  {
   "cell_type": "code",
   "execution_count": 58,
   "metadata": {
    "scrolled": false
   },
   "outputs": [
    {
     "name": "stdout",
     "output_type": "stream",
     "text": [
      "https://www.memopera.fr/ListeSpect.cfm?SaisCode=1972\n",
      "https://www.memopera.fr/ListeSpect.cfm?SaisCode=1973\n",
      "https://www.memopera.fr/ListeSpect.cfm?SaisCode=1974\n",
      "https://www.memopera.fr/ListeSpect.cfm?SaisCode=1975\n",
      "https://www.memopera.fr/ListeSpect.cfm?SaisCode=1976\n",
      "https://www.memopera.fr/ListeSpect.cfm?SaisCode=1977\n",
      "https://www.memopera.fr/ListeSpect.cfm?SaisCode=1978\n",
      "https://www.memopera.fr/ListeSpect.cfm?SaisCode=1979\n",
      "https://www.memopera.fr/ListeSpect.cfm?SaisCode=1980\n",
      "https://www.memopera.fr/ListeSpect.cfm?SaisCode=1981\n",
      "https://www.memopera.fr/ListeSpect.cfm?SaisCode=1982\n",
      "https://www.memopera.fr/ListeSpect.cfm?SaisCode=1983\n",
      "https://www.memopera.fr/ListeSpect.cfm?SaisCode=1984\n",
      "https://www.memopera.fr/ListeSpect.cfm?SaisCode=1985\n",
      "https://www.memopera.fr/ListeSpect.cfm?SaisCode=1986\n",
      "https://www.memopera.fr/ListeSpect.cfm?SaisCode=1987\n",
      "https://www.memopera.fr/ListeSpect.cfm?SaisCode=1988\n",
      "https://www.memopera.fr/ListeSpect.cfm?SaisCode=1989\n",
      "https://www.memopera.fr/ListeSpect.cfm?SaisCode=1990\n",
      "https://www.memopera.fr/ListeSpect.cfm?SaisCode=1991\n",
      "https://www.memopera.fr/ListeSpect.cfm?SaisCode=1992\n",
      "https://www.memopera.fr/ListeSpect.cfm?SaisCode=1993\n",
      "https://www.memopera.fr/ListeSpect.cfm?SaisCode=1994\n",
      "https://www.memopera.fr/ListeSpect.cfm?SaisCode=1995\n",
      "https://www.memopera.fr/ListeSpect.cfm?SaisCode=1996\n",
      "https://www.memopera.fr/ListeSpect.cfm?SaisCode=1997\n",
      "https://www.memopera.fr/ListeSpect.cfm?SaisCode=1998\n",
      "https://www.memopera.fr/ListeSpect.cfm?SaisCode=1999\n",
      "https://www.memopera.fr/ListeSpect.cfm?SaisCode=2000\n",
      "https://www.memopera.fr/ListeSpect.cfm?SaisCode=2001\n",
      "https://www.memopera.fr/ListeSpect.cfm?SaisCode=2002\n",
      "https://www.memopera.fr/ListeSpect.cfm?SaisCode=2003\n",
      "https://www.memopera.fr/ListeSpect.cfm?SaisCode=2004\n",
      "https://www.memopera.fr/ListeSpect.cfm?SaisCode=2005\n",
      "https://www.memopera.fr/ListeSpect.cfm?SaisCode=2006\n",
      "https://www.memopera.fr/ListeSpect.cfm?SaisCode=2007\n",
      "https://www.memopera.fr/ListeSpect.cfm?SaisCode=2008\n",
      "https://www.memopera.fr/ListeSpect.cfm?SaisCode=2009\n",
      "https://www.memopera.fr/ListeSpect.cfm?SaisCode=2010\n",
      "https://www.memopera.fr/ListeSpect.cfm?SaisCode=2011\n",
      "https://www.memopera.fr/ListeSpect.cfm?SaisCode=2012\n",
      "https://www.memopera.fr/ListeSpect.cfm?SaisCode=2013\n",
      "https://www.memopera.fr/ListeSpect.cfm?SaisCode=2014\n",
      "https://www.memopera.fr/ListeSpect.cfm?SaisCode=2015\n"
     ]
    }
   ],
   "source": [
    "months = {'janvier': 1,'février': 2,'mars': 3,'avril': 4,'mai': 5,'juin': 6,'juillet': 7,'août': 8,'septembre': 9,'octobre': 10,'novembre': 11,'décembre':12 }\n",
    "\n",
    "listings = []\n",
    "\n",
    "for season in range(1972, 2016):\n",
    "    \n",
    "    s_url = 'https://www.memopera.fr/ListeSpect.cfm?SaisCode={}'.format(season)\n",
    "    print(s_url)\n",
    "    r  = requests.get(s_url, headers=headers)\n",
    "    soup = BeautifulSoup(r.text, \"html5lib\")\n",
    "    shows = soup.find_all('div', attrs={'class': 'liste-spectacle'})\n",
    "    \n",
    "    for show in shows[1:]:\n",
    "        try:\n",
    "            category = show.find('div', attrs={'class': 'ligth-text'})\n",
    "            category = category.get_text().strip()\n",
    "            if category=='Opéra':            \n",
    "                work = show.find('div', attrs={'class': 'titre3'}).get_text().strip()\n",
    "                work_url = 'https://www.memopera.fr/' + show.find('div', attrs={'class': 'titre3'}).find('a').get('href')\n",
    "                work_url = work_url.replace('FicheSpect', 'SpectRepres')\n",
    "                composer = show.find('div', attrs={'class': 'titre3'}).next_sibling.next_sibling.get_text().strip()            \n",
    "                r  = requests.get(work_url, headers=headers)\n",
    "                soup = BeautifulSoup(r.text, \"html5lib\")\n",
    "                dates = soup.find('table', attrs={'class': 'tab-liste'}).find_all('tr')\n",
    "                for date in dates:\n",
    "                    clean_date = date.find_all('td')[1]\n",
    "                    clean_date = clean_date.get_text().strip().split(' ')[1:]\n",
    "                    clean_date[1]=months[clean_date[1]]\n",
    "                    clean_date = datetime.date(int(clean_date[2]), clean_date[1], int(clean_date[0]))\n",
    "                    listing = []\n",
    "                    listing.append(work)\n",
    "                    listing.append(composer)\n",
    "                    listing.append(clean_date)\n",
    "#                     print(listing)\n",
    "                    listings.append(listing)\n",
    "\n",
    "            else:\n",
    "                None\n",
    "        except:\n",
    "            None\n",
    "\n",
    "#Saving results into dataframe and folder            \n",
    "import pandas as pd                     \n",
    "headers = ['work', 'composer', 'date']\n",
    "df = pd.DataFrame(listings, columns=headers)\n",
    "df.to_csv('../../data/processed/listings/opera_national_paris.csv')                            "
   ]
  }
 ],
 "metadata": {
  "kernelspec": {
   "display_name": "Python 3",
   "language": "python",
   "name": "python3"
  },
  "language_info": {
   "codemirror_mode": {
    "name": "ipython",
    "version": 3
   },
   "file_extension": ".py",
   "mimetype": "text/x-python",
   "name": "python",
   "nbconvert_exporter": "python",
   "pygments_lexer": "ipython3",
   "version": "3.6.2"
  }
 },
 "nbformat": 4,
 "nbformat_minor": 2
}
