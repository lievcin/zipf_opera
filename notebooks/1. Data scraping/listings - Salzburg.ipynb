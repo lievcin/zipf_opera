{
 "cells": [
  {
   "cell_type": "code",
   "execution_count": null,
   "metadata": {},
   "outputs": [],
   "source": [
    "from IPython.core.display import display, HTML\n",
    "display(HTML(\"<style>.container { width:100% !important; }</style>\"))"
   ]
  },
  {
   "cell_type": "code",
   "execution_count": 29,
   "metadata": {
    "scrolled": true
   },
   "outputs": [],
   "source": [
    "from bs4 import BeautifulSoup\n",
    "import requests\n",
    "from datetime import datetime\n",
    "\n",
    "headers = { 'User-Agent': 'Mozilla/5.0 (Windows NT 6.0; WOW64; rv:24.0) Gecko/20100101 Firefox/24.0' }\n",
    "base_url = 'https://www.salzburgerfestspiele.at/language/en-us/institution/archiv/archiv-suchergebnisse?dv=1.1.1900&db=31.12.2018&typ=1'"
   ]
  },
  {
   "cell_type": "code",
   "execution_count": 30,
   "metadata": {},
   "outputs": [],
   "source": [
    "listings = []\n",
    "\n",
    "r  = requests.get(base_url, headers=headers)\n",
    "soup = BeautifulSoup(r.text, \"html5lib\")\n",
    "results = soup.find('div', attrs={'class': 'ModsuiteArchiveSearchResultC'}).find_all('a')\n",
    "\n",
    "for result in results:\n",
    "    work = result.get_text().strip()\n",
    "    work_url = result.get('href')\n",
    "    r  = requests.get(work_url, headers=headers)\n",
    "    soup = BeautifulSoup(r.text, \"html5lib\")\n",
    "    \n",
    "    try:\n",
    "        composer = soup.find('h1', attrs={'class': 'A_Oper'}).find('span').previous_sibling.strip()\n",
    "    except:\n",
    "        composer = ''        \n",
    "        \n",
    "    try:\n",
    "        performances = soup.find('div', attrs={'class': 'DIV_serviceSquare seconRowservice autoheight'}).find_all('li')\n",
    "    except:\n",
    "        performances = []\n",
    "        \n",
    "    for performance in performances:\n",
    "        date = performance.get_text().replace('(CANCELLED)', '').strip()\n",
    "        try:\n",
    "            date = datetime.strptime(date, '%d %B %Y, %H:%M').date()\n",
    "        except:\n",
    "            date = datetime.strptime(date, '%d %B %Y').date()            \n",
    "        listing = []\n",
    "        listing.append(work)                        \n",
    "        listing.append(composer)\n",
    "        listing.append(date)\n",
    "#         print(listing)\n",
    "        listings.append(listing)\n",
    "\n",
    "#Saving results into dataframe and folder            \n",
    "import pandas as pd                     \n",
    "headers = ['work', 'composer', 'date']\n",
    "df = pd.DataFrame(listings, columns=headers)\n",
    "df.to_csv('../../data/processed/listings/salzburg.csv')                                    "
   ]
  }
 ],
 "metadata": {
  "kernelspec": {
   "display_name": "Python 3",
   "language": "python",
   "name": "python3"
  },
  "language_info": {
   "codemirror_mode": {
    "name": "ipython",
    "version": 3
   },
   "file_extension": ".py",
   "mimetype": "text/x-python",
   "name": "python",
   "nbconvert_exporter": "python",
   "pygments_lexer": "ipython3",
   "version": "3.6.2"
  }
 },
 "nbformat": 4,
 "nbformat_minor": 2
}
