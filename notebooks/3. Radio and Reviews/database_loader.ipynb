{
 "cells": [
  {
   "cell_type": "code",
   "execution_count": 23,
   "metadata": {},
   "outputs": [
    {
     "data": {
      "text/html": [
       "<style>.container { width:100% !important; }</style>"
      ],
      "text/plain": [
       "<IPython.core.display.HTML object>"
      ]
     },
     "metadata": {},
     "output_type": "display_data"
    }
   ],
   "source": [
    "from IPython.core.display import display, HTML\n",
    "display(HTML(\"<style>.container { width:100% !important; }</style>\"))"
   ]
  },
  {
   "cell_type": "code",
   "execution_count": 24,
   "metadata": {},
   "outputs": [],
   "source": [
    "#database connection settings\n",
    "import psycopg2\n",
    "\n",
    "db_name = \"traviato_development\"\n",
    "db_host = \"localhost\"\n",
    "db_port = \"5432\"\n",
    "db_user = \"lievgarcia\"\n",
    "db_pwd = \"traviato81\"\n",
    "\n",
    "conn = psycopg2.connect(database=db_name, user=db_user, password=db_pwd, host=db_host, port=db_port)"
   ]
  },
  {
   "cell_type": "code",
   "execution_count": 25,
   "metadata": {},
   "outputs": [],
   "source": [
    "#ARTS DESK\n",
    "import pandas as pd\n",
    "\n",
    "cursor = conn.cursor()\n",
    "\n",
    "r_df = pd.read_csv('../../data/processed/reviews/artsdesk.csv', index_col=0)\n",
    "r_df[['rating']] = r_df[['rating']].fillna(value=0)\n",
    "\n",
    "for idx,row in r_df.iterrows():\n",
    "    insert = 'INSERT INTO REVIEWS (SOURCE_ID, TITLE, WORK, THEATRE, REVIEW_DATE, FULL_TEXT, RATING, URL) VALUES ('\n",
    "    values = \"16, '\" + str(row['title']).replace(\"'\", \"''\") + \"', '\" + str(row['work']).replace(\"'\", \"''\") + \"', '\" + str(row['venue']).replace(\"'\", \"''\") + \"'\"\n",
    "    values = values +  \", '\" + row['date'] + \"', '\" + str(row['full_text']).replace(\"'\", \"''\") + \"', \" + str(row['rating']) + \", '\" + row['url']\n",
    "    values = values + \"'); \"\n",
    "    commit = 'COMMIT;'    \n",
    "#     print(insert + values + commit)\n",
    "    cursor.execute(insert + values + commit)"
   ]
  },
  {
   "cell_type": "code",
   "execution_count": 26,
   "metadata": {
    "scrolled": true
   },
   "outputs": [],
   "source": [
    "#MUSIC OHM\n",
    "import pandas as pd\n",
    "\n",
    "cursor = conn.cursor()\n",
    "\n",
    "r_df = pd.read_csv('../../data/processed/reviews/musicomh.csv', index_col=0)\n",
    "\n",
    "ratings_fix = ['001a6dbf_medium', '2007.68_classical', '51EGIV8qIOL', '51v.6tGFlTL', '51xFP0znGbL',\n",
    "               'barbican.composers_classical', 'bohemeroh', 'charities.ibragimova_classical', \n",
    "               'eno.kismet_opera', 'eno.magic.flute', 'gewandhaus.barbican_classical', 'gsc2', 'guildhall.capriccio_opera',\n",
    "               'guildhall.figaro_opera', 'hvorostovsky.pappano_classical', 'iolanthe_opera', 'katherine.broderick_classical', \n",
    "               'kullervo_classical', 'lb1', 'linbury.beggars_opera', 'lso.family_classical', 'qeh.takacs_classical', \n",
    "               'rb.triple.2_classical', 'reich.2_classical', 'rfh.prometeo_classical', 'rpo.goldsmith_classical',\n",
    "               'sbc.bouleztwo_classical', 'snape.kurtag_classical', 'steve.reich', 'troyens_opera', 'two.boys_classical', \n",
    "               'wig.bartok.events_classical', 'wig.bartok.masterclass_classical', 'wigmore_classical']\n",
    "        \n",
    "r_df.loc[r_df['rating'].isin(ratings_fix), 'rating'] = '0'\n",
    "r_df[['rating']] = r_df[['rating']].fillna(value=0)\n",
    "\n",
    "for idx,row in r_df.iterrows():\n",
    "    insert = 'INSERT INTO REVIEWS (SOURCE_ID, TITLE, WORK, THEATRE, REVIEW_DATE, FULL_TEXT, RATING, URL) VALUES ('\n",
    "    values = \"17, '\" + str(row['title']).replace(\"'\", \"''\") + \"', '\" + str(row['work']).replace(\"'\", \"''\") + \"', '\" + str(row['venue']).replace(\"'\", \"''\") + \"'\"\n",
    "    values = values +  \", '\" + row['date'] + \"', '\" + str(row['full_text']).replace(\"'\", \"''\") + \"', \" + str(row['rating']) + \", '\" + row['url']\n",
    "    values = values + \"'); \"\n",
    "    commit = 'COMMIT;'    \n",
    "#     print(insert + values + commit)\n",
    "    cursor.execute(insert + values + commit)"
   ]
  },
  {
   "cell_type": "code",
   "execution_count": 27,
   "metadata": {},
   "outputs": [],
   "source": [
    "#The Stage\n",
    "import pandas as pd\n",
    "\n",
    "cursor = conn.cursor()\n",
    "\n",
    "r_df = pd.read_csv('../../data/processed/reviews/thestage.csv', index_col=0)\n",
    "r_df[['rating']] = r_df[['rating']].fillna(value=0)\n",
    "\n",
    "r_df.head()\n",
    "\n",
    "for idx,row in r_df.iterrows():\n",
    "    insert = 'INSERT INTO REVIEWS (SOURCE_ID, TITLE, WORK, THEATRE, REVIEW_DATE, FULL_TEXT, RATING, URL) VALUES ('\n",
    "    values = \"18, '\" + str(row['title']).replace(\"'\", \"''\") + \"', '\" + str(row['work']).replace(\"'\", \"''\") + \"', '\" + str(row['venue']).replace(\"'\", \"''\") + \"'\"\n",
    "    values = values +  \", '\" + row['date'] + \"', '\" + str(row['full_text']).replace(\"'\", \"''\") + \"', \" + str(row['rating']) + \", '\" + row['url']\n",
    "    values = values + \"'); \"\n",
    "    commit = 'COMMIT;'    \n",
    "#     print(insert + values + commit)\n",
    "    cursor.execute(insert + values + commit)"
   ]
  },
  {
   "cell_type": "code",
   "execution_count": 28,
   "metadata": {},
   "outputs": [],
   "source": [
    "#Bachtrack\n",
    "import pandas as pd\n",
    "\n",
    "cursor = conn.cursor()\n",
    "\n",
    "r_df = pd.read_csv('../../data/processed/reviews/bachtrack.csv', index_col=0)\n",
    "r_df[['rating']] = r_df[['rating']].fillna(value=0)\n",
    "\n",
    "for idx,row in r_df.iterrows():\n",
    "    insert = 'INSERT INTO REVIEWS (SOURCE_ID, TITLE, WORK, THEATRE, REVIEW_DATE, FULL_TEXT, RATING, URL, COMPOSER) VALUES ('\n",
    "    values = \"19, '\" + str(row['title']).replace(\"'\", \"''\") + \"', '\" + str(row['work']).replace(\"'\", \"''\") + \"', '\" + str(row['venue']).replace(\"'\", \"''\") + \"'\"\n",
    "    values = values +  \", '\" + row['date'] + \"', '\" + str(row['full_text']).replace(\"'\", \"''\") + \"', \" + str(row['rating']) + \", '\" + row['url'].replace(\"'\", \"''\")\n",
    "    values = values + \"', '\" + str(row['composer']).replace(\"'\", \"''\") + \"'); \"\n",
    "    commit = 'COMMIT;'    \n",
    "#     print(insert + values + commit)\n",
    "    cursor.execute(insert + values + commit)"
   ]
  }
 ],
 "metadata": {
  "kernelspec": {
   "display_name": "Python 3",
   "language": "python",
   "name": "python3"
  },
  "language_info": {
   "codemirror_mode": {
    "name": "ipython",
    "version": 3
   },
   "file_extension": ".py",
   "mimetype": "text/x-python",
   "name": "python",
   "nbconvert_exporter": "python",
   "pygments_lexer": "ipython3",
   "version": "3.6.2"
  }
 },
 "nbformat": 4,
 "nbformat_minor": 2
}
