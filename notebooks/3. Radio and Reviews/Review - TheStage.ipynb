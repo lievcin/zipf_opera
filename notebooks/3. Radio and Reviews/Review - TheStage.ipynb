{
 "cells": [
  {
   "cell_type": "code",
   "execution_count": 74,
   "metadata": {},
   "outputs": [],
   "source": [
    "from bs4 import BeautifulSoup\n",
    "import requests\n",
    "from datetime import datetime\n",
    "    \n",
    "base_url = 'https://www.thestage.co.uk/wp-admin/admin-ajax.php'\n",
    "headers = { 'user-agent': 'Mozilla/5.0 (Macintosh; Intel Mac OS X 10_11_6) AppleWebKit/537.36 (KHTML, like Gecko) Chrome/53.0.2785.143 Safari/537.36'}\n",
    "reviews=[]"
   ]
  },
  {
   "cell_type": "code",
   "execution_count": 75,
   "metadata": {
    "scrolled": true
   },
   "outputs": [
    {
     "name": "stdout",
     "output_type": "stream",
     "text": [
      "5\n",
      "10\n",
      "15\n",
      "20\n",
      "25\n",
      "30\n",
      "35\n",
      "40\n",
      "45\n",
      "50\n",
      "55\n",
      "60\n",
      "65\n",
      "70\n",
      "75\n",
      "80\n",
      "85\n",
      "90\n",
      "95\n",
      "100\n",
      "105\n",
      "110\n",
      "115\n",
      "120\n",
      "125\n"
     ]
    }
   ],
   "source": [
    "for page in range(1,130):\n",
    "    \n",
    "    if page%5==0:\n",
    "        print(page)\n",
    "        \n",
    "    payload = {\n",
    "        'action': 'td_ajax_block',\n",
    "        'td_atts': '{\"category_id\":10414,\"limit\":\"12\",\"ajax_pagination\":\"load_more\",\"post_type\":[\"post\",\"reviews\"]}',\n",
    "        'td_cur_cat': 10414,\n",
    "        'td_block_id': 'td_uid_14_5b3f628908134',\n",
    "        'td_column_number': 3,\n",
    "        'td_current_page': page,\n",
    "        'block_type': 'td_block_8_category'\n",
    "    }\n",
    "\n",
    "    session  = requests.session()\n",
    "    r        = requests.post(base_url, data=payload, headers=headers)\n",
    "    soup     = BeautifulSoup(r.json()['td_data'], \"html5lib\")\n",
    "    listings = soup.find_all(attrs={\"class\": \"span4\"})\n",
    "\n",
    "    for listing in listings:\n",
    "        review = []\n",
    "        title  = listing.find(attrs={\"class\": \"entry-title\"}).get_text().strip()\n",
    "        url    = listing.find(attrs={\"class\": \"entry-title\"}).find('a').get('href')\n",
    "        work   = title.split(' review at ')[0]\n",
    "        try:\n",
    "            venue = title.split(' review at ')[1].split(',')[0]        \n",
    "        except:\n",
    "            venue = ''\n",
    "        city   = title.split(' – ')[0].split(',')[-1].strip()\n",
    "        rating = listing.find(attrs={\"class\": \"stars_small_two\"}).get('data-rating').strip()\n",
    "        date   = listing.find(itemprop=\"dateCreated\").get('datetime')[0:10]\n",
    "        date   = datetime.strptime(date, '%Y-%m-%d').date()         \n",
    "        author = listing.find(itemprop=\"author\").get('content')        \n",
    "        \n",
    "        r     = requests.get(url)\n",
    "        soup  = BeautifulSoup(r.text, \"html5lib\")        \n",
    "        text  = soup.find('div', attrs={\"class\": \"wpb_wrapper\"}).find_all('p')\n",
    "        full_text=''\n",
    "        for w in text:\n",
    "            if w.get('class')==None:\n",
    "                full_text += w.get_text()        \n",
    "        \n",
    "        review.append(title)\n",
    "        review.append(url)        \n",
    "        review.append(work)\n",
    "        review.append(venue)\n",
    "        review.append(city)        \n",
    "        review.append(rating)        \n",
    "        review.append(date)\n",
    "        review.append(author)\n",
    "        review.append(full_text) \n",
    "        reviews.append(review)\n",
    "\n",
    "import pandas as pd                     \n",
    "headers = ['title', 'url', 'work', 'venue', 'city', 'rating', 'date', 'author', 'full_text']\n",
    "df = pd.DataFrame(reviews, columns=headers)\n",
    "df.to_csv('../../data/processed/reviews/thestage.csv')        "
   ]
  }
 ],
 "metadata": {
  "kernelspec": {
   "display_name": "Python 3",
   "language": "python",
   "name": "python3"
  },
  "language_info": {
   "codemirror_mode": {
    "name": "ipython",
    "version": 3
   },
   "file_extension": ".py",
   "mimetype": "text/x-python",
   "name": "python",
   "nbconvert_exporter": "python",
   "pygments_lexer": "ipython3",
   "version": "3.6.2"
  }
 },
 "nbformat": 4,
 "nbformat_minor": 2
}
