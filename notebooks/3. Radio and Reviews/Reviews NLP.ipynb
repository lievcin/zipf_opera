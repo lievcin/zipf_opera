{
 "cells": [
  {
   "cell_type": "code",
   "execution_count": 1,
   "metadata": {},
   "outputs": [
    {
     "data": {
      "text/html": [
       "<style>.container { width:100% !important; }</style>"
      ],
      "text/plain": [
       "<IPython.core.display.HTML object>"
      ]
     },
     "metadata": {},
     "output_type": "display_data"
    }
   ],
   "source": [
    "from IPython.core.display import display, HTML\n",
    "display(HTML(\"<style>.container { width:100% !important; }</style>\"))"
   ]
  },
  {
   "cell_type": "code",
   "execution_count": 2,
   "metadata": {},
   "outputs": [],
   "source": [
    "import os, sys\n",
    "os.environ['GOOGLE_APPLICATION_CREDENTIALS'] = str('../../../../../aws_google/qfef-f18ffa4ac76b.json')\n",
    "\n",
    "sys.path.append('../')\n",
    "from utils.google_nlp import *"
   ]
  },
  {
   "cell_type": "code",
   "execution_count": 3,
   "metadata": {},
   "outputs": [],
   "source": [
    "#database connection settings\n",
    "import psycopg2\n",
    "\n",
    "db_name = \"traviato_development\"\n",
    "db_host = \"localhost\"\n",
    "db_port = \"5432\"\n",
    "db_user = \"lievgarcia\"\n",
    "db_pwd = \"traviato81\"\n",
    "\n",
    "conn = psycopg2.connect(database=db_name, user=db_user, password=db_pwd, host=db_host, port=db_port)"
   ]
  },
  {
   "cell_type": "code",
   "execution_count": 12,
   "metadata": {},
   "outputs": [
    {
     "data": {
      "text/plain": [
       "(0, 9)"
      ]
     },
     "execution_count": 12,
     "metadata": {},
     "output_type": "execute_result"
    }
   ],
   "source": [
    "import pandas as pd\n",
    "\n",
    "cursor = conn.cursor()  \n",
    "query = \"SELECT id, source_id, title, work, composer, theatre, review_date, full_text, rating \" + \\\n",
    "        \"FROM reviews l \" + \\\n",
    "        \"WHERE sentiment_score IS NULL and full_text != 'nan' \" + \\\n",
    "        \"order by review_date \"\n",
    "        \n",
    "cursor.execute(query)\n",
    "columns = ['id', 'source_id', 'title', 'work', 'composer', 'theatre', 'review_date', 'full_text', 'rating']\n",
    "\n",
    "r_df = pd.DataFrame(cursor.fetchall(), columns=columns)\n",
    "r_df.shape"
   ]
  },
  {
   "cell_type": "code",
   "execution_count": 13,
   "metadata": {},
   "outputs": [],
   "source": [
    "for ix, row in r_df.iterrows():\n",
    "    score, magnitude, sentences = sentiment_text(row['full_text'])\n",
    "    cursor = conn.cursor()  \n",
    "    query = \"UPDATE reviews SET \" + \\\n",
    "            \"sentiment_score = {}\".format(score) + ', sentiment_magnitude = {}'.format(magnitude) + \" \" + \\\n",
    "            \"where id = {}; \".format(row['id'])\n",
    "    commit = 'COMMIT;'\n",
    "    \n",
    "#     print(query + commit)\n",
    "    cursor.execute(query + commit)"
   ]
  },
  {
   "cell_type": "code",
   "execution_count": null,
   "metadata": {},
   "outputs": [],
   "source": []
  }
 ],
 "metadata": {
  "kernelspec": {
   "display_name": "Python 3",
   "language": "python",
   "name": "python3"
  },
  "language_info": {
   "codemirror_mode": {
    "name": "ipython",
    "version": 3
   },
   "file_extension": ".py",
   "mimetype": "text/x-python",
   "name": "python",
   "nbconvert_exporter": "python",
   "pygments_lexer": "ipython3",
   "version": "3.6.2"
  }
 },
 "nbformat": 4,
 "nbformat_minor": 2
}
