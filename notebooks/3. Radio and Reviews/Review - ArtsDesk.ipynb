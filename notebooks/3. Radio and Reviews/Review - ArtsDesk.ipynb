{
 "cells": [
  {
   "cell_type": "code",
   "execution_count": 19,
   "metadata": {},
   "outputs": [],
   "source": [
    "from bs4 import BeautifulSoup\n",
    "import requests\n",
    "from datetime import datetime\n",
    "    \n",
    "base_url = 'https://theartsdesk.com/opera/reviews?page='\n",
    "reviews=[]"
   ]
  },
  {
   "cell_type": "code",
   "execution_count": 20,
   "metadata": {
    "scrolled": false
   },
   "outputs": [
    {
     "name": "stdout",
     "output_type": "stream",
     "text": [
      "0\n",
      "5\n",
      "10\n",
      "15\n",
      "20\n",
      "25\n",
      "30\n",
      "35\n",
      "40\n",
      "45\n",
      "50\n",
      "55\n",
      "60\n",
      "65\n",
      "70\n",
      "75\n",
      "80\n"
     ]
    }
   ],
   "source": [
    "for page in range(85):\n",
    "\n",
    "    if page%5==0:\n",
    "        print(page)\n",
    "        \n",
    "    url = base_url + str(page)\n",
    "    r  = requests.get(url)\n",
    "    soup = BeautifulSoup(r.text, \"html5lib\")\n",
    "    listings = soup.find(attrs={\"class\": \"view-content\"}).find_all('td')\n",
    "\n",
    "    for listing in listings:\n",
    "        \n",
    "        review = []        \n",
    "        author = listing.find(attrs={\"class\": \"author\"}).get_text().strip()\n",
    "        date   = listing.find(attrs={\"class\": \"postDate\"}).get_text().strip()\n",
    "        date   = datetime.strptime(date, '%A, %d %B %Y').date()     \n",
    "        url    = 'https://theartsdesk.com' + listing.find('h2').find('a').get('href')\n",
    "        title  = listing.find('h2').find('a').get_text().strip()\n",
    "        rating = ''\n",
    "        \n",
    "        try:\n",
    "            work = title.split(',')[0]\n",
    "        except:\n",
    "            work = ''\n",
    "            \n",
    "        try:\n",
    "            venue = title.split(',')[1]\n",
    "            venue = venue.split('-')[0].strip()            \n",
    "            venue = venue.replace('review', '').strip()\n",
    "        except:\n",
    "            venue = ''\n",
    "            \n",
    "        r     = requests.get(url)\n",
    "        soup  = BeautifulSoup(r.text, \"html5lib\")        \n",
    "        text  = soup.find(attrs={\"class\": \"articleContent\"}).find_all('p')        \n",
    "        full_text=''\n",
    "        for w in text:\n",
    "            if w.get('class')==None:\n",
    "                full_text += w.get_text()\n",
    "                \n",
    "        try:\n",
    "            rating = soup.find('span', attrs={\"class\": \"average-rating\"}).find('span')\n",
    "            rating = rating.get_text()\n",
    "        except:\n",
    "            None\n",
    "\n",
    "\n",
    "\n",
    "        review.append(title)\n",
    "        review.append(work)\n",
    "        review.append(venue)\n",
    "        review.append(date)        \n",
    "        review.append(author)   \n",
    "        review.append(full_text)\n",
    "        review.append(url)        \n",
    "        review.append(rating)   \n",
    "#         print(review)\n",
    "        reviews.append(review)\n",
    "        \n",
    "import pandas as pd\n",
    "headers = ['title', 'work', 'venue', 'date', 'author', 'full_text', 'url', 'rating']\n",
    "df = pd.DataFrame(reviews, columns=headers)\n",
    "df.to_csv('../../data/processed/reviews/artsdesk.csv')"
   ]
  }
 ],
 "metadata": {
  "kernelspec": {
   "display_name": "Python 3",
   "language": "python",
   "name": "python3"
  },
  "language_info": {
   "codemirror_mode": {
    "name": "ipython",
    "version": 3
   },
   "file_extension": ".py",
   "mimetype": "text/x-python",
   "name": "python",
   "nbconvert_exporter": "python",
   "pygments_lexer": "ipython3",
   "version": "3.6.2"
  }
 },
 "nbformat": 4,
 "nbformat_minor": 2
}
