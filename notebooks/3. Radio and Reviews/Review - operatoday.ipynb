{
 "cells": [
  {
   "cell_type": "code",
   "execution_count": 21,
   "metadata": {},
   "outputs": [],
   "source": [
    "from bs4 import BeautifulSoup\n",
    "import requests\n",
    "from datetime import datetime"
   ]
  },
  {
   "cell_type": "code",
   "execution_count": 25,
   "metadata": {},
   "outputs": [],
   "source": [
    "perf_url = 'http://www.operatoday.com/content/reviews/performances/index.php?page='\n",
    "reviews=[]"
   ]
  },
  {
   "cell_type": "code",
   "execution_count": null,
   "metadata": {
    "scrolled": true
   },
   "outputs": [],
   "source": [
    "for page in range(1,76):\n",
    "\n",
    "    if page%5==0:\n",
    "        print(page)\n",
    "        \n",
    "    url      = perf_url + str(page)\n",
    "    r        = requests.get(url)\n",
    "    soup     = BeautifulSoup(r.text, \"html5lib\")\n",
    "    listings = soup.find(attrs={\"id\": \"subfeature\"})\n",
    "    listings = listings.find_all(attrs={\"class\": \"story\"})\n",
    "\n",
    "    for listing in listings:\n",
    "        \n",
    "        review  = []\n",
    "        date    = listing.find('h5').get_text()\n",
    "        date    = datetime.strptime(date, '%d %b %Y').date() \n",
    "        title = listing.find('a').get_text()\n",
    "        rev_url = listing.find('a').get('href')        \n",
    "        try:\n",
    "            work = listing.find('a').find('em').get_text().strip()          \n",
    "        except:\n",
    "            work = ''\n",
    "\n",
    "        r    = requests.get(rev_url)\n",
    "        soup = BeautifulSoup(r.text, \"html5lib\")\n",
    "        if 'not found' in soup.title.get_text().lower():\n",
    "            break\n",
    "            \n",
    "        if work=='':\n",
    "            work = soup.find(attrs={\"id\": \"relatedproduct\"})\n",
    "            try:\n",
    "                work = work.find('strong').get_text().strip()\n",
    "            except:\n",
    "                try:\n",
    "                    work = work.find('p').get_text().strip()\n",
    "                except:\n",
    "                    work = ''\n",
    "        \n",
    "        text = soup.find_all(attrs={\"id\": \"article\"}) + soup.find(attrs={\"class\": \"story\"}).find_all('p')        \n",
    "        full_text=''\n",
    "        for w in text:\n",
    "            if w.get('class')==None:\n",
    "                full_text += w.get_text()        \n",
    "\n",
    "        review.append(work)                \n",
    "        review.append(date)\n",
    "        review.append(title)\n",
    "        review.append(rev_url)  \n",
    "        review.append(full_text)        \n",
    "        reviews.append(review)\n",
    "        \n",
    "import pandas as pd                     \n",
    "headers = ['work', 'date', 'title', 'url', 'full_text']\n",
    "df = pd.DataFrame(reviews, columns=headers)\n",
    "df.to_csv('../../data/processed/reviews/operatoday.csv')"
   ]
  }
 ],
 "metadata": {
  "kernelspec": {
   "display_name": "Python 3",
   "language": "python",
   "name": "python3"
  },
  "language_info": {
   "codemirror_mode": {
    "name": "ipython",
    "version": 3
   },
   "file_extension": ".py",
   "mimetype": "text/x-python",
   "name": "python",
   "nbconvert_exporter": "python",
   "pygments_lexer": "ipython3",
   "version": "3.6.2"
  }
 },
 "nbformat": 4,
 "nbformat_minor": 2
}
