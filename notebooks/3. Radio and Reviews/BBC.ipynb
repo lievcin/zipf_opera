{
 "cells": [
  {
   "cell_type": "code",
   "execution_count": 55,
   "metadata": {},
   "outputs": [],
   "source": [
    "from bs4 import BeautifulSoup\n",
    "import requests, csv, string, re, datetime\n",
    "from csv import writer\n",
    "\n",
    "start_date = datetime.datetime(1967, 9, 30, 0, 0)\n",
    "date_list = [start_date + datetime.timedelta(days=x) for x in range(0, 15450)] #13900\n",
    "\n",
    "stations = ['radio3']\n",
    "programmes = []\n",
    "genome_url = 'http://genome.ch.bbc.co.uk'"
   ]
  },
  {
   "cell_type": "code",
   "execution_count": null,
   "metadata": {
    "scrolled": true
   },
   "outputs": [],
   "source": [
    "for station in stations:\n",
    "    base_url = genome_url + '/schedules/' + station + '/'\n",
    "    for idx,date in enumerate(date_list):\n",
    "\n",
    "        if idx%100 == 0:\n",
    "            print(idx)        \n",
    "            \n",
    "        url = base_url + date.strftime('%Y-%m-%d')\n",
    "        r  = requests.get(url)\n",
    "        soup = BeautifulSoup(r.text, \"html5lib\")\n",
    "        listings = soup.find_all(attrs={\"class\": \"listing\"})\n",
    "        for listing in listings:\n",
    "            \n",
    "            show = []\n",
    "            time = listing.find('time').get('datetime')\n",
    "            title = listing.find(attrs={\"class\": \"title\"}).text\n",
    "            \n",
    "#             url = genome_url + listing.find(attrs={\"class\": \"title\"}).get('href')\n",
    "#             r  = requests.get(url)\n",
    "#             soup = BeautifulSoup(r.text, \"html5lib\")\n",
    "            synopsis = listing.get_text().strip()\n",
    "#             synopsis = soup.find(attrs={\"class\": \"synopsis\"}).text.strip()\n",
    "            \n",
    "            show.append(station)\n",
    "            show.append(time)\n",
    "            show.append(title)        \n",
    "            show.append(url)\n",
    "            show.append(synopsis)\n",
    "#             print(show)            \n",
    "            programmes.append(show)        \n",
    "\n",
    "import pandas as pd                     \n",
    "headers = ['station', 'time', 'title', 'url', 'synopsis']\n",
    "df = pd.DataFrame(programmes, columns=headers)\n",
    "df.to_csv('../../data/raw/bbc_3.programming.csv')"
   ]
  }
 ],
 "metadata": {
  "kernelspec": {
   "display_name": "Python 3",
   "language": "python",
   "name": "python3"
  },
  "language_info": {
   "codemirror_mode": {
    "name": "ipython",
    "version": 3
   },
   "file_extension": ".py",
   "mimetype": "text/x-python",
   "name": "python",
   "nbconvert_exporter": "python",
   "pygments_lexer": "ipython3",
   "version": "3.6.2"
  }
 },
 "nbformat": 4,
 "nbformat_minor": 2
}
