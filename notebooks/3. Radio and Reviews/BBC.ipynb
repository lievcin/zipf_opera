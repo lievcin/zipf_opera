{
 "cells": [
  {
   "cell_type": "code",
   "execution_count": null,
   "metadata": {
    "scrolled": true
   },
   "outputs": [],
   "source": [
    "from bs4 import BeautifulSoup\n",
    "import requests, csv, string, re, datetime\n",
    "from csv import writer\n",
    "\n",
    "shows = []\n",
    "genome_url = 'https://genome.ch.bbc.co.uk/search/'\n",
    "\n",
    "for i in range(1000):\n",
    "    \n",
    "    if i%100 == 0:\n",
    "        print(i)        \n",
    "    \n",
    "    url = genome_url + str(i*20) + '/20?q=opera#search'\n",
    "    \n",
    "    r  = requests.get(url)\n",
    "    soup = BeautifulSoup(r.text, \"html5lib\")\n",
    "    results = soup.find_all('div', attrs={\"class\": \"result\"})\n",
    "    for result in results:\n",
    "        show    = []\n",
    "        station = result.find('img').get('title').strip().replace(' logo', '')\n",
    "        date    = result.find(attrs={\"class\": \"date-time\"}).find('a').get('href')\n",
    "        date    = date.split('/')[-1].split('#')[0]\n",
    "        title   = result.find('a', attrs={\"class\": \"title\"}).get_text().strip()\n",
    "        content = result.find('div', attrs={\"class\": \"synopsis\"}).get_text().strip()\n",
    "        \n",
    "        show.append(station)\n",
    "        show.append(date)\n",
    "        show.append(title)\n",
    "        show.append(content)        \n",
    "        shows.append(show) \n",
    "        \n",
    "import pandas as pd                     \n",
    "headers = ['station', 'date', 'title', 'synopsis']\n",
    "df = pd.DataFrame(shows, columns=headers)\n",
    "df.to_csv('../../data/raw/bbc_opera.csv')"
   ]
  }
 ],
 "metadata": {
  "kernelspec": {
   "display_name": "Python 3",
   "language": "python",
   "name": "python3"
  },
  "language_info": {
   "codemirror_mode": {
    "name": "ipython",
    "version": 3
   },
   "file_extension": ".py",
   "mimetype": "text/x-python",
   "name": "python",
   "nbconvert_exporter": "python",
   "pygments_lexer": "ipython3",
   "version": "3.6.2"
  }
 },
 "nbformat": 4,
 "nbformat_minor": 2
}
