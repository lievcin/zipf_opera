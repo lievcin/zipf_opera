{
 "cells": [
  {
   "cell_type": "code",
   "execution_count": 13,
   "metadata": {},
   "outputs": [],
   "source": [
    "from bs4 import BeautifulSoup\n",
    "import requests\n",
    "from datetime import datetime\n",
    "\n",
    "base_url = 'https://www.musicomh.com/classical/reviews-classical/page/'\n",
    "reviews=[]"
   ]
  },
  {
   "cell_type": "code",
   "execution_count": null,
   "metadata": {
    "scrolled": true
   },
   "outputs": [],
   "source": [
    "for page in range(104,105):\n",
    "    print(page)\n",
    "    url = base_url + str(page)\n",
    "    r  = requests.get(url)\n",
    "    soup = BeautifulSoup(r.text, \"html5lib\")\n",
    "    listings = soup.find_all('h2', attrs={\"class\": \"title\"}) + soup.find_all('div', attrs={\"class\": \"image_text_box_index\"})        \n",
    "\n",
    "    for listing in listings:\n",
    "        \n",
    "        review = []        \n",
    "        listing_url = listing.find('a').get('href')        \n",
    "        r     = requests.get(listing_url)\n",
    "        soup  = BeautifulSoup(r.text, \"html5lib\")\n",
    "        \n",
    "        try:\n",
    "            posted = soup.find(attrs={\"class\": \"date time published\"}).get_text()\n",
    "        except:\n",
    "            posted = '31 Dec 2099'\n",
    "        date   = datetime.strptime(posted, '%d %b %Y').date()        \n",
    "        \n",
    "        try:\n",
    "            info  = soup.find('div', attrs={\"id\": \"post_title\"}).find('h1').get_text()\n",
    "            city  = info.split(',')[-1].strip()\n",
    "            work  = info.split('@')[0].strip()\n",
    "            if len(info.split('@')) > 1:\n",
    "                venue = info.split('@')[1].split(',')[0].strip()\n",
    "            else:\n",
    "                venue = ''\n",
    "        except:\n",
    "            info = listing_url\n",
    "            city = ''\n",
    "            work = ''\n",
    "            venue = ''\n",
    "\n",
    "        try:\n",
    "            rating = soup.find('div', attrs={\"id\": \"post_title\"}).parent.find('img')\n",
    "            rating = rating.get('src').split('/')[-1].split('.')[0].replace('stars', '').replace('-', '.')\n",
    "        except:\n",
    "            rating = ''\n",
    "            \n",
    "        text  = soup.find('div', attrs={\"class\": \"entry\"}).find_all('p')\n",
    "        full_text=''\n",
    "        for w in text:\n",
    "            if w.get('class')==None:\n",
    "                full_text += w.get_text()\n",
    "        \n",
    "        review.append(info)\n",
    "        review.append(work)\n",
    "        review.append(venue)\n",
    "        review.append(city)\n",
    "        review.append(rating)        \n",
    "        review.append(full_text)\n",
    "        reviews.append(review)\n",
    "\n",
    "import pandas as pd\n",
    "headers = ['title', 'work', 'venue', 'city', 'rating', 'full_text']\n",
    "df = pd.DataFrame(reviews, columns=headers)\n",
    "df.to_csv('../../data/processed/reviews/musicomh.csv')"
   ]
  }
 ],
 "metadata": {
  "kernelspec": {
   "display_name": "Python 3",
   "language": "python",
   "name": "python3"
  },
  "language_info": {
   "codemirror_mode": {
    "name": "ipython",
    "version": 3
   },
   "file_extension": ".py",
   "mimetype": "text/x-python",
   "name": "python",
   "nbconvert_exporter": "python",
   "pygments_lexer": "ipython3",
   "version": "3.6.2"
  }
 },
 "nbformat": 4,
 "nbformat_minor": 2
}
